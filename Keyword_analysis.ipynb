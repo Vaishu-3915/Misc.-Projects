{
  "nbformat": 4,
  "nbformat_minor": 0,
  "metadata": {
    "colab": {
      "provenance": []
    },
    "kernelspec": {
      "name": "python3",
      "display_name": "Python 3"
    },
    "language_info": {
      "name": "python"
    }
  },
  "cells": [
    {
      "cell_type": "code",
      "execution_count": 58,
      "metadata": {
        "id": "jvA3QW4hhVBa"
      },
      "outputs": [],
      "source": [
        "import numpy as np\n",
        "import pandas as pd\n",
        "import matplotlib.pyplot as plt\n",
        "import seaborn as sns"
      ]
    },
    {
      "cell_type": "code",
      "source": [
        "from google.colab import drive\n",
        "drive.mount('/content/drive')"
      ],
      "metadata": {
        "colab": {
          "base_uri": "https://localhost:8080/"
        },
        "id": "dnbkwGP0IOP5",
        "outputId": "b39282b7-ac5f-4cb8-d5d2-3502746d928c"
      },
      "execution_count": 59,
      "outputs": [
        {
          "output_type": "stream",
          "name": "stdout",
          "text": [
            "Drive already mounted at /content/drive; to attempt to forcibly remount, call drive.mount(\"/content/drive\", force_remount=True).\n"
          ]
        }
      ]
    },
    {
      "cell_type": "code",
      "source": [
        "df=pd.read_csv('/content/drive/MyDrive/My colab notebooks/Foundations data analytics/Project 3 NLP/Keyword_data - Keyword_data.csv')"
      ],
      "metadata": {
        "id": "KtMBI1IcIUia"
      },
      "execution_count": 60,
      "outputs": []
    },
    {
      "cell_type": "markdown",
      "source": [
        "# Cleaning the data"
      ],
      "metadata": {
        "id": "mxt7miyYLMpc"
      }
    },
    {
      "cell_type": "code",
      "source": [
        "#checking the null value count for each keyword\n",
        "df.isnull().sum()"
      ],
      "metadata": {
        "colab": {
          "base_uri": "https://localhost:8080/"
        },
        "id": "f5723555J8ki",
        "outputId": "6a0d28c8-34d4-435a-b836-9f8f9d748302"
      },
      "execution_count": 61,
      "outputs": [
        {
          "output_type": "execute_result",
          "data": {
            "text/plain": [
              "Title         11\n",
              "Keyword 1     17\n",
              "Keyword 2     17\n",
              "Keyword 3     17\n",
              "Keyword 4     17\n",
              "Keyword 5     17\n",
              "Keyword 6     18\n",
              "Keyword 7     18\n",
              "Keyword 8     18\n",
              "Keyword 9     20\n",
              "Keyword 10    22\n",
              "Keyword 11    46\n",
              "Keyword 12    55\n",
              "dtype: int64"
            ]
          },
          "metadata": {},
          "execution_count": 61
        }
      ]
    },
    {
      "cell_type": "code",
      "source": [
        "#drop the records where title is a null value\n",
        "\n",
        "df=df.loc[~df['Title'].isnull()]\n",
        "df.head()"
      ],
      "metadata": {
        "colab": {
          "base_uri": "https://localhost:8080/",
          "height": 652
        },
        "id": "Vs6hmzfwKGsF",
        "outputId": "0447e11a-e497-42cd-c91a-27cea7fe980e"
      },
      "execution_count": 62,
      "outputs": [
        {
          "output_type": "execute_result",
          "data": {
            "text/plain": [
              "                                                                                                    Title  \\\n",
              "0  Feb/03                                                                                                   \n",
              "2  Meta-Analyses of Financial Performance and Equity: Fusion or Confusion?                                  \n",
              "3  Home Country Environments, Corporate Diversification Strategies, and Firm Performance                    \n",
              "4  Safeguarding Investments in Asymmetric Interorganizational Relationships: Theory and Evidence            \n",
              "5  Managerialist and Human Capital Explanations for Key Executive Pay Premiums: A Contingency Perspective   \n",
              "\n",
              "                       Keyword 1                 Keyword 2  \\\n",
              "0  NaN                            NaN                        \n",
              "2  EQUITY                         ORGANIZATIONAL sociology   \n",
              "3  DIVERSIFICATION in industry    BUSINESS planning          \n",
              "4  INTERORGANIZATIONAL relations  INTERGROUP relations       \n",
              "5  EXECUTIVE compensation         WAGES                      \n",
              "\n",
              "                Keyword 3               Keyword 4             Keyword 5  \\\n",
              "0  NaN                     NaN                     NaN                    \n",
              "2  PERFORMANCE             META-analysis           PSYCHOMETRICS          \n",
              "3  PERFORMANCE standards   EMPLOYEES -- Rating of  CORPORATE culture      \n",
              "4  BUSINESS communication  INVESTMENTS             SUPPLY chains          \n",
              "5  HUMAN capital           LABOR economics         PERSONNEL management   \n",
              "\n",
              "                 Keyword 6                        Keyword 7  \\\n",
              "0  NaN                      NaN                               \n",
              "2  ORGANIZATIONAL research  FINANCIAL performance             \n",
              "3  STRATEGIC planning       ORGANIZATIONAL effectiveness      \n",
              "4  KNOWLEDGE management     INTERORGANIZATIONAL networks      \n",
              "5  MANAGEMENT science       CONTINGENCY theory (Management)   \n",
              "\n",
              "                 Keyword 8                       Keyword 9  \\\n",
              "0  NaN                      NaN                              \n",
              "2  AGENCY theory            ORGANIZATIONAL effectiveness     \n",
              "3  MANAGEMENT science       MANAGEMENT research              \n",
              "4  CORPORATE governance     GROUP decision making            \n",
              "5  COMPENSATION management  EXECUTIVE ability (Management)   \n",
              "\n",
              "                Keyword 10            Keyword 11 Keyword 12  \n",
              "0  NaN                      NaN                   NaN        \n",
              "2  ORGANIZATIONAL behavior  CORPORATE governance  NaN        \n",
              "3  PRODUCT management       NaN                   NaN        \n",
              "4  INTELLECTUAL capital     NaN                   NaN        \n",
              "5  CORPORATE governance     NaN                   NaN        "
            ],
            "text/html": [
              "\n",
              "  <div id=\"df-76e418b4-5ffa-4dbe-a1fe-c08e409dcab3\">\n",
              "    <div class=\"colab-df-container\">\n",
              "      <div>\n",
              "<style scoped>\n",
              "    .dataframe tbody tr th:only-of-type {\n",
              "        vertical-align: middle;\n",
              "    }\n",
              "\n",
              "    .dataframe tbody tr th {\n",
              "        vertical-align: top;\n",
              "    }\n",
              "\n",
              "    .dataframe thead th {\n",
              "        text-align: right;\n",
              "    }\n",
              "</style>\n",
              "<table border=\"1\" class=\"dataframe\">\n",
              "  <thead>\n",
              "    <tr style=\"text-align: right;\">\n",
              "      <th></th>\n",
              "      <th>Title</th>\n",
              "      <th>Keyword 1</th>\n",
              "      <th>Keyword 2</th>\n",
              "      <th>Keyword 3</th>\n",
              "      <th>Keyword 4</th>\n",
              "      <th>Keyword 5</th>\n",
              "      <th>Keyword 6</th>\n",
              "      <th>Keyword 7</th>\n",
              "      <th>Keyword 8</th>\n",
              "      <th>Keyword 9</th>\n",
              "      <th>Keyword 10</th>\n",
              "      <th>Keyword 11</th>\n",
              "      <th>Keyword 12</th>\n",
              "    </tr>\n",
              "  </thead>\n",
              "  <tbody>\n",
              "    <tr>\n",
              "      <th>0</th>\n",
              "      <td>Feb/03</td>\n",
              "      <td>NaN</td>\n",
              "      <td>NaN</td>\n",
              "      <td>NaN</td>\n",
              "      <td>NaN</td>\n",
              "      <td>NaN</td>\n",
              "      <td>NaN</td>\n",
              "      <td>NaN</td>\n",
              "      <td>NaN</td>\n",
              "      <td>NaN</td>\n",
              "      <td>NaN</td>\n",
              "      <td>NaN</td>\n",
              "      <td>NaN</td>\n",
              "    </tr>\n",
              "    <tr>\n",
              "      <th>2</th>\n",
              "      <td>Meta-Analyses of Financial Performance and Equity: Fusion or Confusion?</td>\n",
              "      <td>EQUITY</td>\n",
              "      <td>ORGANIZATIONAL sociology</td>\n",
              "      <td>PERFORMANCE</td>\n",
              "      <td>META-analysis</td>\n",
              "      <td>PSYCHOMETRICS</td>\n",
              "      <td>ORGANIZATIONAL research</td>\n",
              "      <td>FINANCIAL performance</td>\n",
              "      <td>AGENCY theory</td>\n",
              "      <td>ORGANIZATIONAL effectiveness</td>\n",
              "      <td>ORGANIZATIONAL behavior</td>\n",
              "      <td>CORPORATE governance</td>\n",
              "      <td>NaN</td>\n",
              "    </tr>\n",
              "    <tr>\n",
              "      <th>3</th>\n",
              "      <td>Home Country Environments, Corporate Diversification Strategies, and Firm Performance</td>\n",
              "      <td>DIVERSIFICATION in industry</td>\n",
              "      <td>BUSINESS planning</td>\n",
              "      <td>PERFORMANCE standards</td>\n",
              "      <td>EMPLOYEES -- Rating of</td>\n",
              "      <td>CORPORATE culture</td>\n",
              "      <td>STRATEGIC planning</td>\n",
              "      <td>ORGANIZATIONAL effectiveness</td>\n",
              "      <td>MANAGEMENT science</td>\n",
              "      <td>MANAGEMENT research</td>\n",
              "      <td>PRODUCT management</td>\n",
              "      <td>NaN</td>\n",
              "      <td>NaN</td>\n",
              "    </tr>\n",
              "    <tr>\n",
              "      <th>4</th>\n",
              "      <td>Safeguarding Investments in Asymmetric Interorganizational Relationships: Theory and Evidence</td>\n",
              "      <td>INTERORGANIZATIONAL relations</td>\n",
              "      <td>INTERGROUP relations</td>\n",
              "      <td>BUSINESS communication</td>\n",
              "      <td>INVESTMENTS</td>\n",
              "      <td>SUPPLY chains</td>\n",
              "      <td>KNOWLEDGE management</td>\n",
              "      <td>INTERORGANIZATIONAL networks</td>\n",
              "      <td>CORPORATE governance</td>\n",
              "      <td>GROUP decision making</td>\n",
              "      <td>INTELLECTUAL capital</td>\n",
              "      <td>NaN</td>\n",
              "      <td>NaN</td>\n",
              "    </tr>\n",
              "    <tr>\n",
              "      <th>5</th>\n",
              "      <td>Managerialist and Human Capital Explanations for Key Executive Pay Premiums: A Contingency Perspective</td>\n",
              "      <td>EXECUTIVE compensation</td>\n",
              "      <td>WAGES</td>\n",
              "      <td>HUMAN capital</td>\n",
              "      <td>LABOR economics</td>\n",
              "      <td>PERSONNEL management</td>\n",
              "      <td>MANAGEMENT science</td>\n",
              "      <td>CONTINGENCY theory (Management)</td>\n",
              "      <td>COMPENSATION management</td>\n",
              "      <td>EXECUTIVE ability (Management)</td>\n",
              "      <td>CORPORATE governance</td>\n",
              "      <td>NaN</td>\n",
              "      <td>NaN</td>\n",
              "    </tr>\n",
              "  </tbody>\n",
              "</table>\n",
              "</div>\n",
              "      <button class=\"colab-df-convert\" onclick=\"convertToInteractive('df-76e418b4-5ffa-4dbe-a1fe-c08e409dcab3')\"\n",
              "              title=\"Convert this dataframe to an interactive table.\"\n",
              "              style=\"display:none;\">\n",
              "        \n",
              "  <svg xmlns=\"http://www.w3.org/2000/svg\" height=\"24px\"viewBox=\"0 0 24 24\"\n",
              "       width=\"24px\">\n",
              "    <path d=\"M0 0h24v24H0V0z\" fill=\"none\"/>\n",
              "    <path d=\"M18.56 5.44l.94 2.06.94-2.06 2.06-.94-2.06-.94-.94-2.06-.94 2.06-2.06.94zm-11 1L8.5 8.5l.94-2.06 2.06-.94-2.06-.94L8.5 2.5l-.94 2.06-2.06.94zm10 10l.94 2.06.94-2.06 2.06-.94-2.06-.94-.94-2.06-.94 2.06-2.06.94z\"/><path d=\"M17.41 7.96l-1.37-1.37c-.4-.4-.92-.59-1.43-.59-.52 0-1.04.2-1.43.59L10.3 9.45l-7.72 7.72c-.78.78-.78 2.05 0 2.83L4 21.41c.39.39.9.59 1.41.59.51 0 1.02-.2 1.41-.59l7.78-7.78 2.81-2.81c.8-.78.8-2.07 0-2.86zM5.41 20L4 18.59l7.72-7.72 1.47 1.35L5.41 20z\"/>\n",
              "  </svg>\n",
              "      </button>\n",
              "      \n",
              "  <style>\n",
              "    .colab-df-container {\n",
              "      display:flex;\n",
              "      flex-wrap:wrap;\n",
              "      gap: 12px;\n",
              "    }\n",
              "\n",
              "    .colab-df-convert {\n",
              "      background-color: #E8F0FE;\n",
              "      border: none;\n",
              "      border-radius: 50%;\n",
              "      cursor: pointer;\n",
              "      display: none;\n",
              "      fill: #1967D2;\n",
              "      height: 32px;\n",
              "      padding: 0 0 0 0;\n",
              "      width: 32px;\n",
              "    }\n",
              "\n",
              "    .colab-df-convert:hover {\n",
              "      background-color: #E2EBFA;\n",
              "      box-shadow: 0px 1px 2px rgba(60, 64, 67, 0.3), 0px 1px 3px 1px rgba(60, 64, 67, 0.15);\n",
              "      fill: #174EA6;\n",
              "    }\n",
              "\n",
              "    [theme=dark] .colab-df-convert {\n",
              "      background-color: #3B4455;\n",
              "      fill: #D2E3FC;\n",
              "    }\n",
              "\n",
              "    [theme=dark] .colab-df-convert:hover {\n",
              "      background-color: #434B5C;\n",
              "      box-shadow: 0px 1px 3px 1px rgba(0, 0, 0, 0.15);\n",
              "      filter: drop-shadow(0px 1px 2px rgba(0, 0, 0, 0.3));\n",
              "      fill: #FFFFFF;\n",
              "    }\n",
              "  </style>\n",
              "\n",
              "      <script>\n",
              "        const buttonEl =\n",
              "          document.querySelector('#df-76e418b4-5ffa-4dbe-a1fe-c08e409dcab3 button.colab-df-convert');\n",
              "        buttonEl.style.display =\n",
              "          google.colab.kernel.accessAllowed ? 'block' : 'none';\n",
              "\n",
              "        async function convertToInteractive(key) {\n",
              "          const element = document.querySelector('#df-76e418b4-5ffa-4dbe-a1fe-c08e409dcab3');\n",
              "          const dataTable =\n",
              "            await google.colab.kernel.invokeFunction('convertToInteractive',\n",
              "                                                     [key], {});\n",
              "          if (!dataTable) return;\n",
              "\n",
              "          const docLinkHtml = 'Like what you see? Visit the ' +\n",
              "            '<a target=\"_blank\" href=https://colab.research.google.com/notebooks/data_table.ipynb>data table notebook</a>'\n",
              "            + ' to learn more about interactive tables.';\n",
              "          element.innerHTML = '';\n",
              "          dataTable['output_type'] = 'display_data';\n",
              "          await google.colab.output.renderOutput(dataTable, element);\n",
              "          const docLink = document.createElement('div');\n",
              "          docLink.innerHTML = docLinkHtml;\n",
              "          element.appendChild(docLink);\n",
              "        }\n",
              "      </script>\n",
              "    </div>\n",
              "  </div>\n",
              "  "
            ]
          },
          "metadata": {},
          "execution_count": 62
        }
      ]
    },
    {
      "cell_type": "code",
      "source": [
        "# drop the records for which the first keyword itself a null value. it indicates that there are no keywords for that title\n",
        "\n",
        "df=df.loc[~df['Keyword 1'].isnull()]\n",
        "df.head()"
      ],
      "metadata": {
        "colab": {
          "base_uri": "https://localhost:8080/",
          "height": 738
        },
        "id": "YHreKBrIKn5H",
        "outputId": "3d4aeb29-0142-468e-eebf-d16bc95acc48"
      },
      "execution_count": 63,
      "outputs": [
        {
          "output_type": "execute_result",
          "data": {
            "text/plain": [
              "                                                                                                    Title  \\\n",
              "2  Meta-Analyses of Financial Performance and Equity: Fusion or Confusion?                                  \n",
              "3  Home Country Environments, Corporate Diversification Strategies, and Firm Performance                    \n",
              "4  Safeguarding Investments in Asymmetric Interorganizational Relationships: Theory and Evidence            \n",
              "5  Managerialist and Human Capital Explanations for Key Executive Pay Premiums: A Contingency Perspective   \n",
              "6  Bidding Wars Over R&D-Intensive Firms: Knowledge, Opportunism, and the Market for Corporate Control      \n",
              "\n",
              "                       Keyword 1                         Keyword 2  \\\n",
              "2  EQUITY                         ORGANIZATIONAL sociology           \n",
              "3  DIVERSIFICATION in industry    BUSINESS planning                  \n",
              "4  INTERORGANIZATIONAL relations  INTERGROUP relations               \n",
              "5  EXECUTIVE compensation         WAGES                              \n",
              "6  KNOWLEDGE management           INFORMATION resources management   \n",
              "\n",
              "                        Keyword 3               Keyword 4  \\\n",
              "2  PERFORMANCE                     META-analysis            \n",
              "3  PERFORMANCE standards           EMPLOYEES -- Rating of   \n",
              "4  BUSINESS communication          INVESTMENTS              \n",
              "5  HUMAN capital                   LABOR economics          \n",
              "6  MANAGEMENT information systems  BREAK-even analysis      \n",
              "\n",
              "              Keyword 5                Keyword 6  \\\n",
              "2  PSYCHOMETRICS         ORGANIZATIONAL research   \n",
              "3  CORPORATE culture     STRATEGIC planning        \n",
              "4  SUPPLY chains         KNOWLEDGE management      \n",
              "5  PERSONNEL management  MANAGEMENT science        \n",
              "6  DATA mining           MANAGEMENT science        \n",
              "\n",
              "                         Keyword 7                         Keyword 8  \\\n",
              "2  FINANCIAL performance            AGENCY theory                      \n",
              "3  ORGANIZATIONAL effectiveness     MANAGEMENT science                 \n",
              "4  INTERORGANIZATIONAL networks     CORPORATE governance               \n",
              "5  CONTINGENCY theory (Management)  COMPENSATION management            \n",
              "6  RESEARCH & development           RESEARCH & development contracts   \n",
              "\n",
              "                        Keyword 9               Keyword 10  \\\n",
              "2  ORGANIZATIONAL effectiveness    ORGANIZATIONAL behavior   \n",
              "3  MANAGEMENT research             PRODUCT management        \n",
              "4  GROUP decision making           INTELLECTUAL capital      \n",
              "5  EXECUTIVE ability (Management)  CORPORATE governance      \n",
              "6  CORPORATE governance            DECISION making           \n",
              "\n",
              "                Keyword 11         Keyword 12  \n",
              "2  CORPORATE governance     NaN                \n",
              "3  NaN                      NaN                \n",
              "4  NaN                      NaN                \n",
              "5  NaN                      NaN                \n",
              "6  ORGANIZATIONAL behavior  TRANSACTION costs  "
            ],
            "text/html": [
              "\n",
              "  <div id=\"df-c2e10572-0a2a-467c-8703-a683c3f15afb\">\n",
              "    <div class=\"colab-df-container\">\n",
              "      <div>\n",
              "<style scoped>\n",
              "    .dataframe tbody tr th:only-of-type {\n",
              "        vertical-align: middle;\n",
              "    }\n",
              "\n",
              "    .dataframe tbody tr th {\n",
              "        vertical-align: top;\n",
              "    }\n",
              "\n",
              "    .dataframe thead th {\n",
              "        text-align: right;\n",
              "    }\n",
              "</style>\n",
              "<table border=\"1\" class=\"dataframe\">\n",
              "  <thead>\n",
              "    <tr style=\"text-align: right;\">\n",
              "      <th></th>\n",
              "      <th>Title</th>\n",
              "      <th>Keyword 1</th>\n",
              "      <th>Keyword 2</th>\n",
              "      <th>Keyword 3</th>\n",
              "      <th>Keyword 4</th>\n",
              "      <th>Keyword 5</th>\n",
              "      <th>Keyword 6</th>\n",
              "      <th>Keyword 7</th>\n",
              "      <th>Keyword 8</th>\n",
              "      <th>Keyword 9</th>\n",
              "      <th>Keyword 10</th>\n",
              "      <th>Keyword 11</th>\n",
              "      <th>Keyword 12</th>\n",
              "    </tr>\n",
              "  </thead>\n",
              "  <tbody>\n",
              "    <tr>\n",
              "      <th>2</th>\n",
              "      <td>Meta-Analyses of Financial Performance and Equity: Fusion or Confusion?</td>\n",
              "      <td>EQUITY</td>\n",
              "      <td>ORGANIZATIONAL sociology</td>\n",
              "      <td>PERFORMANCE</td>\n",
              "      <td>META-analysis</td>\n",
              "      <td>PSYCHOMETRICS</td>\n",
              "      <td>ORGANIZATIONAL research</td>\n",
              "      <td>FINANCIAL performance</td>\n",
              "      <td>AGENCY theory</td>\n",
              "      <td>ORGANIZATIONAL effectiveness</td>\n",
              "      <td>ORGANIZATIONAL behavior</td>\n",
              "      <td>CORPORATE governance</td>\n",
              "      <td>NaN</td>\n",
              "    </tr>\n",
              "    <tr>\n",
              "      <th>3</th>\n",
              "      <td>Home Country Environments, Corporate Diversification Strategies, and Firm Performance</td>\n",
              "      <td>DIVERSIFICATION in industry</td>\n",
              "      <td>BUSINESS planning</td>\n",
              "      <td>PERFORMANCE standards</td>\n",
              "      <td>EMPLOYEES -- Rating of</td>\n",
              "      <td>CORPORATE culture</td>\n",
              "      <td>STRATEGIC planning</td>\n",
              "      <td>ORGANIZATIONAL effectiveness</td>\n",
              "      <td>MANAGEMENT science</td>\n",
              "      <td>MANAGEMENT research</td>\n",
              "      <td>PRODUCT management</td>\n",
              "      <td>NaN</td>\n",
              "      <td>NaN</td>\n",
              "    </tr>\n",
              "    <tr>\n",
              "      <th>4</th>\n",
              "      <td>Safeguarding Investments in Asymmetric Interorganizational Relationships: Theory and Evidence</td>\n",
              "      <td>INTERORGANIZATIONAL relations</td>\n",
              "      <td>INTERGROUP relations</td>\n",
              "      <td>BUSINESS communication</td>\n",
              "      <td>INVESTMENTS</td>\n",
              "      <td>SUPPLY chains</td>\n",
              "      <td>KNOWLEDGE management</td>\n",
              "      <td>INTERORGANIZATIONAL networks</td>\n",
              "      <td>CORPORATE governance</td>\n",
              "      <td>GROUP decision making</td>\n",
              "      <td>INTELLECTUAL capital</td>\n",
              "      <td>NaN</td>\n",
              "      <td>NaN</td>\n",
              "    </tr>\n",
              "    <tr>\n",
              "      <th>5</th>\n",
              "      <td>Managerialist and Human Capital Explanations for Key Executive Pay Premiums: A Contingency Perspective</td>\n",
              "      <td>EXECUTIVE compensation</td>\n",
              "      <td>WAGES</td>\n",
              "      <td>HUMAN capital</td>\n",
              "      <td>LABOR economics</td>\n",
              "      <td>PERSONNEL management</td>\n",
              "      <td>MANAGEMENT science</td>\n",
              "      <td>CONTINGENCY theory (Management)</td>\n",
              "      <td>COMPENSATION management</td>\n",
              "      <td>EXECUTIVE ability (Management)</td>\n",
              "      <td>CORPORATE governance</td>\n",
              "      <td>NaN</td>\n",
              "      <td>NaN</td>\n",
              "    </tr>\n",
              "    <tr>\n",
              "      <th>6</th>\n",
              "      <td>Bidding Wars Over R&amp;D-Intensive Firms: Knowledge, Opportunism, and the Market for Corporate Control</td>\n",
              "      <td>KNOWLEDGE management</td>\n",
              "      <td>INFORMATION resources management</td>\n",
              "      <td>MANAGEMENT information systems</td>\n",
              "      <td>BREAK-even analysis</td>\n",
              "      <td>DATA mining</td>\n",
              "      <td>MANAGEMENT science</td>\n",
              "      <td>RESEARCH &amp; development</td>\n",
              "      <td>RESEARCH &amp; development contracts</td>\n",
              "      <td>CORPORATE governance</td>\n",
              "      <td>DECISION making</td>\n",
              "      <td>ORGANIZATIONAL behavior</td>\n",
              "      <td>TRANSACTION costs</td>\n",
              "    </tr>\n",
              "  </tbody>\n",
              "</table>\n",
              "</div>\n",
              "      <button class=\"colab-df-convert\" onclick=\"convertToInteractive('df-c2e10572-0a2a-467c-8703-a683c3f15afb')\"\n",
              "              title=\"Convert this dataframe to an interactive table.\"\n",
              "              style=\"display:none;\">\n",
              "        \n",
              "  <svg xmlns=\"http://www.w3.org/2000/svg\" height=\"24px\"viewBox=\"0 0 24 24\"\n",
              "       width=\"24px\">\n",
              "    <path d=\"M0 0h24v24H0V0z\" fill=\"none\"/>\n",
              "    <path d=\"M18.56 5.44l.94 2.06.94-2.06 2.06-.94-2.06-.94-.94-2.06-.94 2.06-2.06.94zm-11 1L8.5 8.5l.94-2.06 2.06-.94-2.06-.94L8.5 2.5l-.94 2.06-2.06.94zm10 10l.94 2.06.94-2.06 2.06-.94-2.06-.94-.94-2.06-.94 2.06-2.06.94z\"/><path d=\"M17.41 7.96l-1.37-1.37c-.4-.4-.92-.59-1.43-.59-.52 0-1.04.2-1.43.59L10.3 9.45l-7.72 7.72c-.78.78-.78 2.05 0 2.83L4 21.41c.39.39.9.59 1.41.59.51 0 1.02-.2 1.41-.59l7.78-7.78 2.81-2.81c.8-.78.8-2.07 0-2.86zM5.41 20L4 18.59l7.72-7.72 1.47 1.35L5.41 20z\"/>\n",
              "  </svg>\n",
              "      </button>\n",
              "      \n",
              "  <style>\n",
              "    .colab-df-container {\n",
              "      display:flex;\n",
              "      flex-wrap:wrap;\n",
              "      gap: 12px;\n",
              "    }\n",
              "\n",
              "    .colab-df-convert {\n",
              "      background-color: #E8F0FE;\n",
              "      border: none;\n",
              "      border-radius: 50%;\n",
              "      cursor: pointer;\n",
              "      display: none;\n",
              "      fill: #1967D2;\n",
              "      height: 32px;\n",
              "      padding: 0 0 0 0;\n",
              "      width: 32px;\n",
              "    }\n",
              "\n",
              "    .colab-df-convert:hover {\n",
              "      background-color: #E2EBFA;\n",
              "      box-shadow: 0px 1px 2px rgba(60, 64, 67, 0.3), 0px 1px 3px 1px rgba(60, 64, 67, 0.15);\n",
              "      fill: #174EA6;\n",
              "    }\n",
              "\n",
              "    [theme=dark] .colab-df-convert {\n",
              "      background-color: #3B4455;\n",
              "      fill: #D2E3FC;\n",
              "    }\n",
              "\n",
              "    [theme=dark] .colab-df-convert:hover {\n",
              "      background-color: #434B5C;\n",
              "      box-shadow: 0px 1px 3px 1px rgba(0, 0, 0, 0.15);\n",
              "      filter: drop-shadow(0px 1px 2px rgba(0, 0, 0, 0.3));\n",
              "      fill: #FFFFFF;\n",
              "    }\n",
              "  </style>\n",
              "\n",
              "      <script>\n",
              "        const buttonEl =\n",
              "          document.querySelector('#df-c2e10572-0a2a-467c-8703-a683c3f15afb button.colab-df-convert');\n",
              "        buttonEl.style.display =\n",
              "          google.colab.kernel.accessAllowed ? 'block' : 'none';\n",
              "\n",
              "        async function convertToInteractive(key) {\n",
              "          const element = document.querySelector('#df-c2e10572-0a2a-467c-8703-a683c3f15afb');\n",
              "          const dataTable =\n",
              "            await google.colab.kernel.invokeFunction('convertToInteractive',\n",
              "                                                     [key], {});\n",
              "          if (!dataTable) return;\n",
              "\n",
              "          const docLinkHtml = 'Like what you see? Visit the ' +\n",
              "            '<a target=\"_blank\" href=https://colab.research.google.com/notebooks/data_table.ipynb>data table notebook</a>'\n",
              "            + ' to learn more about interactive tables.';\n",
              "          element.innerHTML = '';\n",
              "          dataTable['output_type'] = 'display_data';\n",
              "          await google.colab.output.renderOutput(dataTable, element);\n",
              "          const docLink = document.createElement('div');\n",
              "          docLink.innerHTML = docLinkHtml;\n",
              "          element.appendChild(docLink);\n",
              "        }\n",
              "      </script>\n",
              "    </div>\n",
              "  </div>\n",
              "  "
            ]
          },
          "metadata": {},
          "execution_count": 63
        }
      ]
    },
    {
      "cell_type": "code",
      "source": [
        "df.shape"
      ],
      "metadata": {
        "colab": {
          "base_uri": "https://localhost:8080/"
        },
        "id": "wlFpA_QULHeC",
        "outputId": "f5524f7d-e136-4eea-d4cc-403150b22c77"
      },
      "execution_count": 64,
      "outputs": [
        {
          "output_type": "execute_result",
          "data": {
            "text/plain": [
              "(49, 13)"
            ]
          },
          "metadata": {},
          "execution_count": 64
        }
      ]
    },
    {
      "cell_type": "code",
      "source": [
        "df.info()"
      ],
      "metadata": {
        "id": "pOcI0Mcs678V",
        "colab": {
          "base_uri": "https://localhost:8080/"
        },
        "outputId": "c80331bb-a917-4730-a0f6-e4cd19c89e19"
      },
      "execution_count": 65,
      "outputs": [
        {
          "output_type": "stream",
          "name": "stdout",
          "text": [
            "<class 'pandas.core.frame.DataFrame'>\n",
            "Int64Index: 49 entries, 2 to 65\n",
            "Data columns (total 13 columns):\n",
            " #   Column      Non-Null Count  Dtype \n",
            "---  ------      --------------  ----- \n",
            " 0   Title       49 non-null     object\n",
            " 1   Keyword 1   49 non-null     object\n",
            " 2   Keyword 2   49 non-null     object\n",
            " 3   Keyword 3   49 non-null     object\n",
            " 4   Keyword 4   49 non-null     object\n",
            " 5   Keyword 5   49 non-null     object\n",
            " 6   Keyword 6   48 non-null     object\n",
            " 7   Keyword 7   48 non-null     object\n",
            " 8   Keyword 8   48 non-null     object\n",
            " 9   Keyword 9   46 non-null     object\n",
            " 10  Keyword 10  44 non-null     object\n",
            " 11  Keyword 11  20 non-null     object\n",
            " 12  Keyword 12  11 non-null     object\n",
            "dtypes: object(13)\n",
            "memory usage: 5.4+ KB\n"
          ]
        }
      ]
    },
    {
      "cell_type": "markdown",
      "source": [
        "# Extracting the unique keywords"
      ],
      "metadata": {
        "id": "UBOoaAkdLS7D"
      }
    },
    {
      "cell_type": "code",
      "source": [
        "df.shape"
      ],
      "metadata": {
        "colab": {
          "base_uri": "https://localhost:8080/"
        },
        "id": "-YWik7DaKiel",
        "outputId": "fef5be8f-3a8b-49c5-804f-c4d0bcad9eab"
      },
      "execution_count": 66,
      "outputs": [
        {
          "output_type": "execute_result",
          "data": {
            "text/plain": [
              "(49, 13)"
            ]
          },
          "metadata": {},
          "execution_count": 66
        }
      ]
    },
    {
      "cell_type": "code",
      "source": [
        "print(type(df.iloc[:,1:].values))\n",
        "print(df.iloc[:,1:].values.shape)"
      ],
      "metadata": {
        "colab": {
          "base_uri": "https://localhost:8080/"
        },
        "id": "lrfa1yLpJaLR",
        "outputId": "7859e0f5-d0e9-4e04-cfaa-564f5d884d49"
      },
      "execution_count": 67,
      "outputs": [
        {
          "output_type": "stream",
          "name": "stdout",
          "text": [
            "<class 'numpy.ndarray'>\n",
            "(49, 12)\n"
          ]
        }
      ]
    },
    {
      "cell_type": "code",
      "source": [
        " #creating a list of lists containing the keywords  in each document\n",
        "keywords_all=[]\n",
        "\n",
        "for index, row in df.iterrows():\n",
        "  keywords_all.append([keyword.lower() for keyword in list(row[1:]) if not isinstance(keyword, float)])"
      ],
      "metadata": {
        "id": "E8-LLYzRsANd"
      },
      "execution_count": 68,
      "outputs": []
    },
    {
      "cell_type": "code",
      "source": [
        "keywords_all[1]"
      ],
      "metadata": {
        "colab": {
          "base_uri": "https://localhost:8080/"
        },
        "id": "779d33uy6xk1",
        "outputId": "bbf4ef80-52cc-438e-c8ef-ab77b7fb6b81"
      },
      "execution_count": 69,
      "outputs": [
        {
          "output_type": "execute_result",
          "data": {
            "text/plain": [
              "['diversification in industry',\n",
              " 'business planning',\n",
              " 'performance standards',\n",
              " 'employees -- rating of',\n",
              " 'corporate culture',\n",
              " 'strategic planning',\n",
              " 'organizational effectiveness',\n",
              " 'management science',\n",
              " 'management research',\n",
              " 'product management']"
            ]
          },
          "metadata": {},
          "execution_count": 69
        }
      ]
    },
    {
      "cell_type": "code",
      "source": [
        "#unique key words\n",
        "#df.iloc[:,1:].values will create an n-dimensional numpy array containing the values of each dataframe column starting from 'keyword1'.\n",
        "# ravel flattens the array into an 1D array. Null values are dropped from that array and unique values are taken\n",
        "keywords_uni=pd.Series(df.iloc[:,1:].values.ravel()).dropna().unique()"
      ],
      "metadata": {
        "id": "e1JMLz5SI1gh"
      },
      "execution_count": 70,
      "outputs": []
    },
    {
      "cell_type": "code",
      "source": [
        "keywords_uni=list(keywords_uni)\n",
        "keywords_uni=list(map(str.lower, keywords_uni))"
      ],
      "metadata": {
        "id": "Absl2lPKTPKU"
      },
      "execution_count": 71,
      "outputs": []
    },
    {
      "cell_type": "code",
      "source": [
        "#number of unique keywords\n",
        "len(keywords_uni)"
      ],
      "metadata": {
        "colab": {
          "base_uri": "https://localhost:8080/"
        },
        "id": "jzt1saCeKz1u",
        "outputId": "dc1cf2ae-efdd-4b6d-bc7b-c8775623bb28"
      },
      "execution_count": 72,
      "outputs": [
        {
          "output_type": "execute_result",
          "data": {
            "text/plain": [
              "248"
            ]
          },
          "metadata": {},
          "execution_count": 72
        }
      ]
    },
    {
      "cell_type": "code",
      "source": [
        "keywords_uni[0:5]"
      ],
      "metadata": {
        "colab": {
          "base_uri": "https://localhost:8080/"
        },
        "id": "RLRxoejh3rWV",
        "outputId": "d915c851-fa9c-4857-ab50-cfdac9d945bf"
      },
      "execution_count": 73,
      "outputs": [
        {
          "output_type": "execute_result",
          "data": {
            "text/plain": [
              "['equity',\n",
              " 'organizational sociology',\n",
              " 'performance',\n",
              " 'meta-analysis',\n",
              " 'psychometrics']"
            ]
          },
          "metadata": {},
          "execution_count": 73
        }
      ]
    },
    {
      "cell_type": "markdown",
      "source": [
        "# Creating adjacency matrix"
      ],
      "metadata": {
        "id": "kBzI2LQJLiMc"
      }
    },
    {
      "cell_type": "code",
      "source": [
        "#creating a numpy array of dimension 248 \n",
        "adj=np.zeros((len(keywords_uni),len(keywords_uni)))"
      ],
      "metadata": {
        "id": "PNorFi3SRZ7Z"
      },
      "execution_count": 74,
      "outputs": []
    },
    {
      "cell_type": "code",
      "source": [
        "len(keywords_all)"
      ],
      "metadata": {
        "colab": {
          "base_uri": "https://localhost:8080/"
        },
        "id": "oRO96CS9gOlR",
        "outputId": "0dacb68e-3d89-47cd-9622-f25903949f61"
      },
      "execution_count": 75,
      "outputs": [
        {
          "output_type": "execute_result",
          "data": {
            "text/plain": [
              "49"
            ]
          },
          "metadata": {},
          "execution_count": 75
        }
      ]
    },
    {
      "cell_type": "code",
      "source": [
        "from itertools import combinations"
      ],
      "metadata": {
        "id": "Nze86pwtRHZ1"
      },
      "execution_count": 76,
      "outputs": []
    },
    {
      "cell_type": "code",
      "source": [
        "# creating keyword pairs for each of the 49 documents using combination function\n",
        "#and creating adjacency matrix containing the weights of each keyword pair\n",
        "for keyword in keywords_all:\n",
        "  keyword_pairs=list(combinations(keyword,2))\n",
        "  for keyword_tuple in keyword_pairs:\n",
        "    if keyword_tuple[0] in keyword and keyword_tuple[1] in keyword:\n",
        "      adj[keywords_uni.index(keyword_tuple[0])][keywords_uni.index(keyword_tuple[1])] +=1\n",
        "      adj[keywords_uni.index(keyword_tuple[1])][keywords_uni.index(keyword_tuple[0])] +=1\n",
        "\n",
        "#setting the diagonal value to 0 to avoid any keyword paired with itself\n",
        "np.fill_diagonal(adj, 0)"
      ],
      "metadata": {
        "id": "1yoiZwkX8xfm"
      },
      "execution_count": 77,
      "outputs": []
    },
    {
      "cell_type": "code",
      "source": [
        "print(adj)"
      ],
      "metadata": {
        "colab": {
          "base_uri": "https://localhost:8080/"
        },
        "id": "wPYt5a8HANtK",
        "outputId": "a86fcc1a-45ab-4566-fee2-9587d9173d88"
      },
      "execution_count": 78,
      "outputs": [
        {
          "output_type": "stream",
          "name": "stdout",
          "text": [
            "[[0. 1. 1. ... 0. 0. 0.]\n",
            " [1. 0. 2. ... 0. 0. 0.]\n",
            " [1. 2. 0. ... 0. 0. 0.]\n",
            " ...\n",
            " [0. 0. 0. ... 0. 1. 1.]\n",
            " [0. 0. 0. ... 1. 0. 1.]\n",
            " [0. 0. 0. ... 1. 1. 0.]]\n"
          ]
        }
      ]
    },
    {
      "cell_type": "markdown",
      "source": [
        "# Compute node degree and strength"
      ],
      "metadata": {
        "id": "2sUkW7VqMVap"
      }
    },
    {
      "cell_type": "code",
      "source": [
        "import networkx as nx"
      ],
      "metadata": {
        "id": "Y5TnAjqsH6JZ"
      },
      "execution_count": 79,
      "outputs": []
    },
    {
      "cell_type": "code",
      "source": [
        "g=nx.from_numpy_array(adj)"
      ],
      "metadata": {
        "id": "hO4uYKHfI5MD"
      },
      "execution_count": 80,
      "outputs": []
    },
    {
      "cell_type": "code",
      "source": [
        "nx.draw(g, with_labels=True)"
      ],
      "metadata": {
        "colab": {
          "base_uri": "https://localhost:8080/",
          "height": 516
        },
        "id": "a0TYMo5OFZIf",
        "outputId": "ef1644c3-1658-427d-f31d-f8027773eb8b"
      },
      "execution_count": 81,
      "outputs": [
        {
          "output_type": "display_data",
          "data": {
            "text/plain": [
              "<Figure size 640x480 with 1 Axes>"
            ],
            "image/png": "[encoded data removed]"
          },
          "metadata": {}
        }
      ]
    },
    {
      "cell_type": "code",
      "source": [
        "g.number_of_nodes() "
      ],
      "metadata": {
        "id": "GCGJG_KFJmkk",
        "colab": {
          "base_uri": "https://localhost:8080/"
        },
        "outputId": "d57b915e-a951-43fc-a384-04d80140bfdb"
      },
      "execution_count": 82,
      "outputs": [
        {
          "output_type": "execute_result",
          "data": {
            "text/plain": [
              "248"
            ]
          },
          "metadata": {},
          "execution_count": 82
        }
      ]
    },
    {
      "cell_type": "code",
      "source": [
        "nx.is_weighted(g)"
      ],
      "metadata": {
        "colab": {
          "base_uri": "https://localhost:8080/"
        },
        "id": "UMvjJhu0KB5G",
        "outputId": "631914ec-21d7-4c65-dc92-a6cb25bdc297"
      },
      "execution_count": 83,
      "outputs": [
        {
          "output_type": "execute_result",
          "data": {
            "text/plain": [
              "True"
            ]
          },
          "metadata": {},
          "execution_count": 83
        }
      ]
    },
    {
      "cell_type": "code",
      "source": [
        "g.degree"
      ],
      "metadata": {
        "id": "vboFvLdYKmep",
        "colab": {
          "base_uri": "https://localhost:8080/"
        },
        "outputId": "f99ba077-fcf4-4dbb-fe21-e94654f96ba2"
      },
      "execution_count": 84,
      "outputs": [
        {
          "output_type": "execute_result",
          "data": {
            "text/plain": [
              "DegreeView({0: 10, 1: 66, 2: 23, 3: 10, 4: 10, 5: 24, 6: 19, 7: 38, 8: 104, 9: 166, 10: 62, 11: 18, 12: 29, 13: 9, 14: 9, 15: 9, 16: 66, 17: 102, 18: 17, 19: 24, 20: 24, 21: 16, 22: 9, 23: 25, 24: 9, 25: 19, 26: 18, 27: 27, 28: 20, 29: 31, 30: 17, 31: 17, 32: 17, 33: 93, 34: 9, 35: 19, 36: 46, 37: 11, 38: 11, 39: 11, 40: 11, 41: 42, 42: 11, 43: 90, 44: 11, 45: 9, 46: 32, 47: 9, 48: 9, 49: 29, 50: 31, 51: 19, 52: 19, 53: 20, 54: 9, 55: 10, 56: 10, 57: 10, 58: 10, 59: 17, 60: 49, 61: 10, 62: 10, 63: 9, 64: 9, 65: 48, 66: 74, 67: 9, 68: 14, 69: 64, 70: 26, 71: 4, 72: 16, 73: 20, 74: 25, 75: 10, 76: 28, 77: 32, 78: 16, 79: 10, 80: 10, 81: 10, 82: 21, 83: 11, 84: 11, 85: 11, 86: 11, 87: 11, 88: 11, 89: 11, 90: 14, 91: 7, 92: 32, 93: 9, 94: 17, 95: 9, 96: 17, 97: 8, 98: 8, 99: 8, 100: 16, 101: 9, 102: 9, 103: 9, 104: 9, 105: 9, 106: 15, 107: 23, 108: 9, 109: 9, 110: 9, 111: 17, 112: 17, 113: 27, 114: 8, 115: 8, 116: 18, 117: 11, 118: 11, 119: 26, 120: 11, 121: 11, 122: 11, 123: 11, 124: 18, 125: 10, 126: 18, 127: 27, 128: 20, 129: 11, 130: 37, 131: 11, 132: 21, 133: 18, 134: 20, 135: 10, 136: 55, 137: 10, 138: 10, 139: 18, 140: 17, 141: 10, 142: 10, 143: 9, 144: 9, 145: 9, 146: 26, 147: 37, 148: 9, 149: 9, 150: 26, 151: 9, 152: 16, 153: 17, 154: 18, 155: 9, 156: 9, 157: 9, 158: 9, 159: 9, 160: 31, 161: 9, 162: 9, 163: 9, 164: 9, 165: 10, 166: 10, 167: 41, 168: 10, 169: 10, 170: 9, 171: 9, 172: 9, 173: 9, 174: 9, 175: 18, 176: 9, 177: 9, 178: 9, 179: 9, 180: 9, 181: 9, 182: 9, 183: 9, 184: 9, 185: 9, 186: 9, 187: 9, 188: 9, 189: 9, 190: 17, 191: 9, 192: 9, 193: 35, 194: 9, 195: 9, 196: 9, 197: 9, 198: 9, 199: 9, 200: 9, 201: 9, 202: 9, 203: 9, 204: 9, 205: 9, 206: 7, 207: 18, 208: 7, 209: 9, 210: 9, 211: 17, 212: 9, 213: 9, 214: 9, 215: 9, 216: 9, 217: 9, 218: 9, 219: 9, 220: 9, 221: 11, 222: 11, 223: 11, 224: 11, 225: 10, 226: 11, 227: 11, 228: 11, 229: 11, 230: 11, 231: 21, 232: 11, 233: 11, 234: 11, 235: 11, 236: 19, 237: 11, 238: 11, 239: 11, 240: 11, 241: 11, 242: 11, 243: 11, 244: 11, 245: 11, 246: 11, 247: 11})"
            ]
          },
          "metadata": {},
          "execution_count": 84
        }
      ]
    },
    {
      "cell_type": "code",
      "source": [
        "# dict(g.degree)"
      ],
      "metadata": {
        "id": "iHAq3E6NqktB"
      },
      "execution_count": 85,
      "outputs": []
    },
    {
      "cell_type": "code",
      "source": [
        "# dict(g.degree(weight='weight'))"
      ],
      "metadata": {
        "id": "57EeoczL8JGj"
      },
      "execution_count": 86,
      "outputs": []
    },
    {
      "cell_type": "code",
      "source": [
        "#computing degree of each node and converting it to a dictionary\n",
        "dict_degree=dict(zip(keywords_uni, list(dict(g.degree).values())))\n",
        "\n",
        "#computing strength of each node and converting it to a dictionary\n",
        "dict_strength= dict(zip(keywords_uni, list(dict(g.degree(weight='weight')).values())))"
      ],
      "metadata": {
        "id": "22sIQ6EHHs0h"
      },
      "execution_count": 87,
      "outputs": []
    },
    {
      "cell_type": "code",
      "source": [
        "dict_strength"
      ],
      "metadata": {
        "id": "whQvVjT7OM6o",
        "colab": {
          "base_uri": "https://localhost:8080/"
        },
        "outputId": "a17f7be3-9b10-4448-d9c3-074f886c6c83"
      },
      "execution_count": 88,
      "outputs": [
        {
          "output_type": "execute_result",
          "data": {
            "text/plain": [
              "{'equity': 10.0,\n",
              " 'organizational sociology': 96.0,\n",
              " 'performance': 29.0,\n",
              " 'meta-analysis': 10.0,\n",
              " 'psychometrics': 10.0,\n",
              " 'organizational research': 28.0,\n",
              " 'financial performance': 21.0,\n",
              " 'agency theory': 48.0,\n",
              " 'organizational effectiveness': 144.0,\n",
              " 'organizational behavior': 265.0,\n",
              " 'corporate governance': 85.0,\n",
              " 'diversification in industry': 20.0,\n",
              " 'business planning': 31.0,\n",
              " 'performance standards': 9.0,\n",
              " 'employees -- rating of': 9.0,\n",
              " 'corporate culture': 9.0,\n",
              " 'strategic planning': 80.0,\n",
              " 'management science': 136.0,\n",
              " 'management research': 19.0,\n",
              " 'product management': 28.0,\n",
              " 'interorganizational relations': 27.0,\n",
              " 'intergroup relations': 17.0,\n",
              " 'business communication': 9.0,\n",
              " 'investments': 25.0,\n",
              " 'supply chains': 9.0,\n",
              " 'knowledge management': 20.0,\n",
              " 'interorganizational networks': 19.0,\n",
              " 'group decision making': 30.0,\n",
              " 'intellectual capital': 20.0,\n",
              " 'executive compensation': 36.0,\n",
              " 'wages': 18.0,\n",
              " 'human capital': 18.0,\n",
              " 'labor economics': 18.0,\n",
              " 'personnel management': 126.0,\n",
              " 'contingency theory (management)': 9.0,\n",
              " 'compensation management': 20.0,\n",
              " 'executive ability (management)': 57.0,\n",
              " 'information resources management': 11.0,\n",
              " 'management information systems': 11.0,\n",
              " 'break-even analysis': 11.0,\n",
              " 'data mining': 11.0,\n",
              " 'research & development': 47.0,\n",
              " 'research & development contracts': 11.0,\n",
              " 'decision making': 112.0,\n",
              " 'transaction costs': 11.0,\n",
              " 'emotions (psychology)': 9.0,\n",
              " 'interpersonal relations': 36.0,\n",
              " 'stress (psychology)': 9.0,\n",
              " 'social interaction': 9.0,\n",
              " 'social psychology': 31.0,\n",
              " 'employees -- attitudes': 38.0,\n",
              " 'customer services': 20.0,\n",
              " 'customer satisfaction': 20.0,\n",
              " 'job stress': 20.0,\n",
              " 'peer review (professional performance)': 9.0,\n",
              " 'supervisors': 10.0,\n",
              " 'justice': 10.0,\n",
              " 'conflict management': 10.0,\n",
              " 'mediation': 10.0,\n",
              " 'employees': 17.0,\n",
              " 'industrial relations': 59.0,\n",
              " 'united states -- national guard': 10.0,\n",
              " 'resource allocation': 10.0,\n",
              " 'decision theory': 9.0,\n",
              " 'punctuated equilibrium (evolution)': 9.0,\n",
              " 'organizational change': 60.0,\n",
              " 'organizational structure': 107.0,\n",
              " 'business models': 9.0,\n",
              " 'executives': 14.0,\n",
              " 'industrial management': 84.0,\n",
              " 'new products': 32.0,\n",
              " 'high technology industries': 4.0,\n",
              " 'stockholders wealth': 19.0,\n",
              " 'institutional investors': 20.0,\n",
              " 'decentralization in management': 29.0,\n",
              " 'stock repurchasing': 10.0,\n",
              " 'corporations -- finance': 30.0,\n",
              " 'incentives in industry': 35.0,\n",
              " 'family-owned business enterprises': 19.0,\n",
              " 'debt': 10.0,\n",
              " 'directors of corporations': 10.0,\n",
              " 'employee ownership': 10.0,\n",
              " 'boards of directors': 21.0,\n",
              " 'globalization': 11.0,\n",
              " 'international business enterprises': 11.0,\n",
              " 'foreign investments': 11.0,\n",
              " 'pension trusts': 11.0,\n",
              " 'high technology': 11.0,\n",
              " 'technological innovations': 11.0,\n",
              " 'innovation adoption': 11.0,\n",
              " 'property': 15.0,\n",
              " 'stewards': 7.0,\n",
              " 'chief executive officers': 37.0,\n",
              " 'business enterprises': 9.0,\n",
              " 'risk': 18.0,\n",
              " 'municipal corporations': 9.0,\n",
              " 'stockholders': 17.0,\n",
              " 'profit': 8.0,\n",
              " 'minority stockholders': 8.0,\n",
              " 'eminent domain': 8.0,\n",
              " 'stock options': 18.0,\n",
              " 'stocks (finance)': 9.0,\n",
              " 'stock ownership': 9.0,\n",
              " 'employee stock options': 9.0,\n",
              " 'risk management in business': 9.0,\n",
              " 'screenwriters': 9.0,\n",
              " 'creative ability': 16.0,\n",
              " 'creative ability in business': 26.0,\n",
              " 'social judgment theory (communication)': 9.0,\n",
              " 'motion picture authorship': 9.0,\n",
              " 'self-perception': 9.0,\n",
              " 'quality of products': 19.0,\n",
              " 'industrial organization': 19.0,\n",
              " 'business networks': 29.0,\n",
              " 'suppliers': 8.0,\n",
              " 'strategic alliances (business)': 8.0,\n",
              " 'aggression (psychology)': 20.0,\n",
              " 'violence': 11.0,\n",
              " 'organizational justice': 11.0,\n",
              " 'work environment': 31.0,\n",
              " 'violence in the workplace': 11.0,\n",
              " 'anger in the workplace': 11.0,\n",
              " 'problem employees': 11.0,\n",
              " 'work attitudes': 11.0,\n",
              " 'personnel changes': 20.0,\n",
              " 'succession planning': 10.0,\n",
              " 'executive succession': 19.0,\n",
              " 'executives -- recruiting': 31.0,\n",
              " 'job qualifications': 21.0,\n",
              " 'mental fatigue': 11.0,\n",
              " 'industrial psychology': 49.0,\n",
              " 'burnout (psychology)': 11.0,\n",
              " 'social networks': 22.0,\n",
              " 'motivation (psychology)': 20.0,\n",
              " 'intrinsic motivation': 21.0,\n",
              " 'contagion (social psychology)': 10.0,\n",
              " 'teams in the workplace': 78.0,\n",
              " 'employee recruitment': 10.0,\n",
              " 'problem solving': 10.0,\n",
              " 'marketing management': 19.0,\n",
              " 'product design': 19.0,\n",
              " 'product lines': 10.0,\n",
              " 'product information management': 10.0,\n",
              " 'social capital (sociology)': 9.0,\n",
              " 'infrastructure (economics)': 9.0,\n",
              " 'venture capital': 9.0,\n",
              " 'going public (securities)': 27.0,\n",
              " 'competitive advantage': 42.0,\n",
              " 'entrepreneurship': 9.0,\n",
              " 'capital market': 9.0,\n",
              " 'resource management': 31.0,\n",
              " 'multilevel marketing': 9.0,\n",
              " 'organizational commitment': 18.0,\n",
              " 'quality of work life': 18.0,\n",
              " 'job satisfaction': 18.0,\n",
              " 'ambivalence': 9.0,\n",
              " 'performance evaluation': 9.0,\n",
              " 'commercial products': 9.0,\n",
              " 'marketing': 9.0,\n",
              " 'marketing -- decision making': 9.0,\n",
              " 'leadership': 37.0,\n",
              " 'self-management (psychology)': 9.0,\n",
              " 'management -- employee participation': 9.0,\n",
              " 'critical incident technique': 9.0,\n",
              " 'task analysis': 9.0,\n",
              " 'critical thinking': 10.0,\n",
              " 'workflow': 10.0,\n",
              " 'management': 53.0,\n",
              " 'delegation of authority': 10.0,\n",
              " 'strategic business units': 10.0,\n",
              " 'labor supply': 9.0,\n",
              " 'labor organizing': 9.0,\n",
              " 'conduct of life': 9.0,\n",
              " 'employee loyalty': 9.0,\n",
              " 'social influence': 9.0,\n",
              " 'individual differences': 19.0,\n",
              " 'social context': 9.0,\n",
              " 'work & family': 9.0,\n",
              " 'women employees': 9.0,\n",
              " 'stocks (finance) -- prices': 9.0,\n",
              " 'human resource accounting': 9.0,\n",
              " 'women -- employment': 9.0,\n",
              " 'capital investments': 9.0,\n",
              " 'consolidation & merger of corporations': 9.0,\n",
              " 'executives -- dismissal of': 9.0,\n",
              " 'labor turnover': 9.0,\n",
              " 'social status': 9.0,\n",
              " 'generosity': 9.0,\n",
              " 'behavioral research': 9.0,\n",
              " 'labor productivity': 9.0,\n",
              " 'social exchange': 18.0,\n",
              " 'social factors': 9.0,\n",
              " 'employees -- attitudes -- research': 9.0,\n",
              " 'employee motivation': 44.0,\n",
              " 'charismatic authority': 9.0,\n",
              " 'self-congruence': 9.0,\n",
              " 'management styles': 9.0,\n",
              " 'job performance': 9.0,\n",
              " 'goal setting in personnel management': 9.0,\n",
              " 'reward (psychology)': 9.0,\n",
              " 'pygmalion (greek mythology)': 9.0,\n",
              " 'galatea, sea nymph (greek deity)': 9.0,\n",
              " 'occupational roles': 9.0,\n",
              " 'employee rules': 9.0,\n",
              " 'human error': 9.0,\n",
              " 'error rates': 9.0,\n",
              " 'taiwanese': 7.0,\n",
              " 'innovation management': 18.0,\n",
              " 'cross-cultural differences': 7.0,\n",
              " 'corporate image': 9.0,\n",
              " 'stockholders -- attitudes': 9.0,\n",
              " 'capitalists & financiers': 18.0,\n",
              " 'mass media': 9.0,\n",
              " 'corporations -- investor relations': 9.0,\n",
              " 'mathematical statistics': 9.0,\n",
              " 'corporations -- public relations': 9.0,\n",
              " 'public companies': 9.0,\n",
              " 'turnover (business)': 9.0,\n",
              " 'options (finance)': 9.0,\n",
              " 'corporations -- valuation': 9.0,\n",
              " 'business enterprises -- valuation': 9.0,\n",
              " 'innovations in business': 11.0,\n",
              " 'shipbuilding industry': 11.0,\n",
              " 'technological innovations -- economic aspects': 11.0,\n",
              " 'success in business': 11.0,\n",
              " 'work environment -- psychological aspects': 10.0,\n",
              " 'organizational goals': 11.0,\n",
              " 'division of labor': 11.0,\n",
              " 'international business enterprises -- management': 11.0,\n",
              " 'foreign subsidiaries -- management': 11.0,\n",
              " 'employee selection': 11.0,\n",
              " 'resource-based theory of the firm': 22.0,\n",
              " 'employment in foreign countries': 11.0,\n",
              " 'subsidiary corporations -- management': 11.0,\n",
              " 'host countries (business)': 11.0,\n",
              " 'human capital -- management': 11.0,\n",
              " 'industrial efficiency': 22.0,\n",
              " 'hospitals -- administration': 11.0,\n",
              " 'wage payment systems': 11.0,\n",
              " 'financial management': 11.0,\n",
              " 'cross-functional teams': 11.0,\n",
              " 'group identity': 11.0,\n",
              " 'service industries -- management': 11.0,\n",
              " 'customer relations': 11.0,\n",
              " 'production management': 11.0,\n",
              " 'labor process': 11.0,\n",
              " 'customer orientation': 11.0,\n",
              " 'marketing strategy': 11.0}"
            ]
          },
          "metadata": {},
          "execution_count": 88
        }
      ]
    },
    {
      "cell_type": "code",
      "source": [
        "#creating dataframe containing the node(keyword) and its correspoding degree and strength\n",
        "df=pd.DataFrame({'Keyword': keywords_uni, 'Degree':list(dict_degree.values()),'Strength':list(dict_strength.values())})"
      ],
      "metadata": {
        "id": "yCrk2lNPrW6m"
      },
      "execution_count": 89,
      "outputs": []
    },
    {
      "cell_type": "markdown",
      "source": [
        "# Top 10 nodes by degree and top 10 nodes by strength"
      ],
      "metadata": {
        "id": "1aMze_k1MdUY"
      }
    },
    {
      "cell_type": "code",
      "source": [
        "df.head()"
      ],
      "metadata": {
        "colab": {
          "base_uri": "https://localhost:8080/",
          "height": 206
        },
        "id": "JNJlL-ds7J7P",
        "outputId": "5421d9f0-e4a1-48fe-a438-5b003e5e3c94"
      },
      "execution_count": 90,
      "outputs": [
        {
          "output_type": "execute_result",
          "data": {
            "text/plain": [
              "                    Keyword  Degree  Strength\n",
              "0  equity                    10      10.0    \n",
              "1  organizational sociology  66      96.0    \n",
              "2  performance               23      29.0    \n",
              "3  meta-analysis             10      10.0    \n",
              "4  psychometrics             10      10.0    "
            ],
            "text/html": [
              "\n",
              "  <div id=\"df-72289523-e821-46e0-ba5a-59175d637b73\">\n",
              "    <div class=\"colab-df-container\">\n",
              "      <div>\n",
              "<style scoped>\n",
              "    .dataframe tbody tr th:only-of-type {\n",
              "        vertical-align: middle;\n",
              "    }\n",
              "\n",
              "    .dataframe tbody tr th {\n",
              "        vertical-align: top;\n",
              "    }\n",
              "\n",
              "    .dataframe thead th {\n",
              "        text-align: right;\n",
              "    }\n",
              "</style>\n",
              "<table border=\"1\" class=\"dataframe\">\n",
              "  <thead>\n",
              "    <tr style=\"text-align: right;\">\n",
              "      <th></th>\n",
              "      <th>Keyword</th>\n",
              "      <th>Degree</th>\n",
              "      <th>Strength</th>\n",
              "    </tr>\n",
              "  </thead>\n",
              "  <tbody>\n",
              "    <tr>\n",
              "      <th>0</th>\n",
              "      <td>equity</td>\n",
              "      <td>10</td>\n",
              "      <td>10.0</td>\n",
              "    </tr>\n",
              "    <tr>\n",
              "      <th>1</th>\n",
              "      <td>organizational sociology</td>\n",
              "      <td>66</td>\n",
              "      <td>96.0</td>\n",
              "    </tr>\n",
              "    <tr>\n",
              "      <th>2</th>\n",
              "      <td>performance</td>\n",
              "      <td>23</td>\n",
              "      <td>29.0</td>\n",
              "    </tr>\n",
              "    <tr>\n",
              "      <th>3</th>\n",
              "      <td>meta-analysis</td>\n",
              "      <td>10</td>\n",
              "      <td>10.0</td>\n",
              "    </tr>\n",
              "    <tr>\n",
              "      <th>4</th>\n",
              "      <td>psychometrics</td>\n",
              "      <td>10</td>\n",
              "      <td>10.0</td>\n",
              "    </tr>\n",
              "  </tbody>\n",
              "</table>\n",
              "</div>\n",
              "      <button class=\"colab-df-convert\" onclick=\"convertToInteractive('df-72289523-e821-46e0-ba5a-59175d637b73')\"\n",
              "              title=\"Convert this dataframe to an interactive table.\"\n",
              "              style=\"display:none;\">\n",
              "        \n",
              "  <svg xmlns=\"http://www.w3.org/2000/svg\" height=\"24px\"viewBox=\"0 0 24 24\"\n",
              "       width=\"24px\">\n",
              "    <path d=\"M0 0h24v24H0V0z\" fill=\"none\"/>\n",
              "    <path d=\"M18.56 5.44l.94 2.06.94-2.06 2.06-.94-2.06-.94-.94-2.06-.94 2.06-2.06.94zm-11 1L8.5 8.5l.94-2.06 2.06-.94-2.06-.94L8.5 2.5l-.94 2.06-2.06.94zm10 10l.94 2.06.94-2.06 2.06-.94-2.06-.94-.94-2.06-.94 2.06-2.06.94z\"/><path d=\"M17.41 7.96l-1.37-1.37c-.4-.4-.92-.59-1.43-.59-.52 0-1.04.2-1.43.59L10.3 9.45l-7.72 7.72c-.78.78-.78 2.05 0 2.83L4 21.41c.39.39.9.59 1.41.59.51 0 1.02-.2 1.41-.59l7.78-7.78 2.81-2.81c.8-.78.8-2.07 0-2.86zM5.41 20L4 18.59l7.72-7.72 1.47 1.35L5.41 20z\"/>\n",
              "  </svg>\n",
              "      </button>\n",
              "      \n",
              "  <style>\n",
              "    .colab-df-container {\n",
              "      display:flex;\n",
              "      flex-wrap:wrap;\n",
              "      gap: 12px;\n",
              "    }\n",
              "\n",
              "    .colab-df-convert {\n",
              "      background-color: #E8F0FE;\n",
              "      border: none;\n",
              "      border-radius: 50%;\n",
              "      cursor: pointer;\n",
              "      display: none;\n",
              "      fill: #1967D2;\n",
              "      height: 32px;\n",
              "      padding: 0 0 0 0;\n",
              "      width: 32px;\n",
              "    }\n",
              "\n",
              "    .colab-df-convert:hover {\n",
              "      background-color: #E2EBFA;\n",
              "      box-shadow: 0px 1px 2px rgba(60, 64, 67, 0.3), 0px 1px 3px 1px rgba(60, 64, 67, 0.15);\n",
              "      fill: #174EA6;\n",
              "    }\n",
              "\n",
              "    [theme=dark] .colab-df-convert {\n",
              "      background-color: #3B4455;\n",
              "      fill: #D2E3FC;\n",
              "    }\n",
              "\n",
              "    [theme=dark] .colab-df-convert:hover {\n",
              "      background-color: #434B5C;\n",
              "      box-shadow: 0px 1px 3px 1px rgba(0, 0, 0, 0.15);\n",
              "      filter: drop-shadow(0px 1px 2px rgba(0, 0, 0, 0.3));\n",
              "      fill: #FFFFFF;\n",
              "    }\n",
              "  </style>\n",
              "\n",
              "      <script>\n",
              "        const buttonEl =\n",
              "          document.querySelector('#df-72289523-e821-46e0-ba5a-59175d637b73 button.colab-df-convert');\n",
              "        buttonEl.style.display =\n",
              "          google.colab.kernel.accessAllowed ? 'block' : 'none';\n",
              "\n",
              "        async function convertToInteractive(key) {\n",
              "          const element = document.querySelector('#df-72289523-e821-46e0-ba5a-59175d637b73');\n",
              "          const dataTable =\n",
              "            await google.colab.kernel.invokeFunction('convertToInteractive',\n",
              "                                                     [key], {});\n",
              "          if (!dataTable) return;\n",
              "\n",
              "          const docLinkHtml = 'Like what you see? Visit the ' +\n",
              "            '<a target=\"_blank\" href=https://colab.research.google.com/notebooks/data_table.ipynb>data table notebook</a>'\n",
              "            + ' to learn more about interactive tables.';\n",
              "          element.innerHTML = '';\n",
              "          dataTable['output_type'] = 'display_data';\n",
              "          await google.colab.output.renderOutput(dataTable, element);\n",
              "          const docLink = document.createElement('div');\n",
              "          docLink.innerHTML = docLinkHtml;\n",
              "          element.appendChild(docLink);\n",
              "        }\n",
              "      </script>\n",
              "    </div>\n",
              "  </div>\n",
              "  "
            ]
          },
          "metadata": {},
          "execution_count": 90
        }
      ]
    },
    {
      "cell_type": "code",
      "source": [
        "#top 10 nodes by degree\n",
        "df[['Keyword','Degree']].sort_values(by='Degree', ascending=False).head(10)"
      ],
      "metadata": {
        "colab": {
          "base_uri": "https://localhost:8080/",
          "height": 363
        },
        "id": "thVNMFQQ7T_V",
        "outputId": "c7c5d431-522e-4548-f764-366d45709e4c"
      },
      "execution_count": 91,
      "outputs": [
        {
          "output_type": "execute_result",
          "data": {
            "text/plain": [
              "                         Keyword  Degree\n",
              "9   organizational behavior       166   \n",
              "8   organizational effectiveness  104   \n",
              "17  management science            102   \n",
              "33  personnel management          93    \n",
              "43  decision making               90    \n",
              "66  organizational structure      74    \n",
              "16  strategic planning            66    \n",
              "1   organizational sociology      66    \n",
              "69  industrial management         64    \n",
              "10  corporate governance          62    "
            ],
            "text/html": [
              "\n",
              "  <div id=\"df-12032a1b-dbd2-44ae-80e2-e742661a03ee\">\n",
              "    <div class=\"colab-df-container\">\n",
              "      <div>\n",
              "<style scoped>\n",
              "    .dataframe tbody tr th:only-of-type {\n",
              "        vertical-align: middle;\n",
              "    }\n",
              "\n",
              "    .dataframe tbody tr th {\n",
              "        vertical-align: top;\n",
              "    }\n",
              "\n",
              "    .dataframe thead th {\n",
              "        text-align: right;\n",
              "    }\n",
              "</style>\n",
              "<table border=\"1\" class=\"dataframe\">\n",
              "  <thead>\n",
              "    <tr style=\"text-align: right;\">\n",
              "      <th></th>\n",
              "      <th>Keyword</th>\n",
              "      <th>Degree</th>\n",
              "    </tr>\n",
              "  </thead>\n",
              "  <tbody>\n",
              "    <tr>\n",
              "      <th>9</th>\n",
              "      <td>organizational behavior</td>\n",
              "      <td>166</td>\n",
              "    </tr>\n",
              "    <tr>\n",
              "      <th>8</th>\n",
              "      <td>organizational effectiveness</td>\n",
              "      <td>104</td>\n",
              "    </tr>\n",
              "    <tr>\n",
              "      <th>17</th>\n",
              "      <td>management science</td>\n",
              "      <td>102</td>\n",
              "    </tr>\n",
              "    <tr>\n",
              "      <th>33</th>\n",
              "      <td>personnel management</td>\n",
              "      <td>93</td>\n",
              "    </tr>\n",
              "    <tr>\n",
              "      <th>43</th>\n",
              "      <td>decision making</td>\n",
              "      <td>90</td>\n",
              "    </tr>\n",
              "    <tr>\n",
              "      <th>66</th>\n",
              "      <td>organizational structure</td>\n",
              "      <td>74</td>\n",
              "    </tr>\n",
              "    <tr>\n",
              "      <th>16</th>\n",
              "      <td>strategic planning</td>\n",
              "      <td>66</td>\n",
              "    </tr>\n",
              "    <tr>\n",
              "      <th>1</th>\n",
              "      <td>organizational sociology</td>\n",
              "      <td>66</td>\n",
              "    </tr>\n",
              "    <tr>\n",
              "      <th>69</th>\n",
              "      <td>industrial management</td>\n",
              "      <td>64</td>\n",
              "    </tr>\n",
              "    <tr>\n",
              "      <th>10</th>\n",
              "      <td>corporate governance</td>\n",
              "      <td>62</td>\n",
              "    </tr>\n",
              "  </tbody>\n",
              "</table>\n",
              "</div>\n",
              "      <button class=\"colab-df-convert\" onclick=\"convertToInteractive('df-12032a1b-dbd2-44ae-80e2-e742661a03ee')\"\n",
              "              title=\"Convert this dataframe to an interactive table.\"\n",
              "              style=\"display:none;\">\n",
              "        \n",
              "  <svg xmlns=\"http://www.w3.org/2000/svg\" height=\"24px\"viewBox=\"0 0 24 24\"\n",
              "       width=\"24px\">\n",
              "    <path d=\"M0 0h24v24H0V0z\" fill=\"none\"/>\n",
              "    <path d=\"M18.56 5.44l.94 2.06.94-2.06 2.06-.94-2.06-.94-.94-2.06-.94 2.06-2.06.94zm-11 1L8.5 8.5l.94-2.06 2.06-.94-2.06-.94L8.5 2.5l-.94 2.06-2.06.94zm10 10l.94 2.06.94-2.06 2.06-.94-2.06-.94-.94-2.06-.94 2.06-2.06.94z\"/><path d=\"M17.41 7.96l-1.37-1.37c-.4-.4-.92-.59-1.43-.59-.52 0-1.04.2-1.43.59L10.3 9.45l-7.72 7.72c-.78.78-.78 2.05 0 2.83L4 21.41c.39.39.9.59 1.41.59.51 0 1.02-.2 1.41-.59l7.78-7.78 2.81-2.81c.8-.78.8-2.07 0-2.86zM5.41 20L4 18.59l7.72-7.72 1.47 1.35L5.41 20z\"/>\n",
              "  </svg>\n",
              "      </button>\n",
              "      \n",
              "  <style>\n",
              "    .colab-df-container {\n",
              "      display:flex;\n",
              "      flex-wrap:wrap;\n",
              "      gap: 12px;\n",
              "    }\n",
              "\n",
              "    .colab-df-convert {\n",
              "      background-color: #E8F0FE;\n",
              "      border: none;\n",
              "      border-radius: 50%;\n",
              "      cursor: pointer;\n",
              "      display: none;\n",
              "      fill: #1967D2;\n",
              "      height: 32px;\n",
              "      padding: 0 0 0 0;\n",
              "      width: 32px;\n",
              "    }\n",
              "\n",
              "    .colab-df-convert:hover {\n",
              "      background-color: #E2EBFA;\n",
              "      box-shadow: 0px 1px 2px rgba(60, 64, 67, 0.3), 0px 1px 3px 1px rgba(60, 64, 67, 0.15);\n",
              "      fill: #174EA6;\n",
              "    }\n",
              "\n",
              "    [theme=dark] .colab-df-convert {\n",
              "      background-color: #3B4455;\n",
              "      fill: #D2E3FC;\n",
              "    }\n",
              "\n",
              "    [theme=dark] .colab-df-convert:hover {\n",
              "      background-color: #434B5C;\n",
              "      box-shadow: 0px 1px 3px 1px rgba(0, 0, 0, 0.15);\n",
              "      filter: drop-shadow(0px 1px 2px rgba(0, 0, 0, 0.3));\n",
              "      fill: #FFFFFF;\n",
              "    }\n",
              "  </style>\n",
              "\n",
              "      <script>\n",
              "        const buttonEl =\n",
              "          document.querySelector('#df-12032a1b-dbd2-44ae-80e2-e742661a03ee button.colab-df-convert');\n",
              "        buttonEl.style.display =\n",
              "          google.colab.kernel.accessAllowed ? 'block' : 'none';\n",
              "\n",
              "        async function convertToInteractive(key) {\n",
              "          const element = document.querySelector('#df-12032a1b-dbd2-44ae-80e2-e742661a03ee');\n",
              "          const dataTable =\n",
              "            await google.colab.kernel.invokeFunction('convertToInteractive',\n",
              "                                                     [key], {});\n",
              "          if (!dataTable) return;\n",
              "\n",
              "          const docLinkHtml = 'Like what you see? Visit the ' +\n",
              "            '<a target=\"_blank\" href=https://colab.research.google.com/notebooks/data_table.ipynb>data table notebook</a>'\n",
              "            + ' to learn more about interactive tables.';\n",
              "          element.innerHTML = '';\n",
              "          dataTable['output_type'] = 'display_data';\n",
              "          await google.colab.output.renderOutput(dataTable, element);\n",
              "          const docLink = document.createElement('div');\n",
              "          docLink.innerHTML = docLinkHtml;\n",
              "          element.appendChild(docLink);\n",
              "        }\n",
              "      </script>\n",
              "    </div>\n",
              "  </div>\n",
              "  "
            ]
          },
          "metadata": {},
          "execution_count": 91
        }
      ]
    },
    {
      "cell_type": "code",
      "source": [
        "# top 10 nodes by strength value\n",
        "df[['Keyword','Strength']].sort_values(by='Strength', ascending=False).head(10)"
      ],
      "metadata": {
        "colab": {
          "base_uri": "https://localhost:8080/",
          "height": 363
        },
        "id": "Fx9EIxurrvY2",
        "outputId": "98c818fd-5af2-4182-9e84-117d6cacf2c9"
      },
      "execution_count": 92,
      "outputs": [
        {
          "output_type": "execute_result",
          "data": {
            "text/plain": [
              "                         Keyword  Strength\n",
              "9   organizational behavior       265.0   \n",
              "8   organizational effectiveness  144.0   \n",
              "17  management science            136.0   \n",
              "33  personnel management          126.0   \n",
              "43  decision making               112.0   \n",
              "66  organizational structure      107.0   \n",
              "1   organizational sociology      96.0    \n",
              "10  corporate governance          85.0    \n",
              "69  industrial management         84.0    \n",
              "16  strategic planning            80.0    "
            ],
            "text/html": [
              "\n",
              "  <div id=\"df-ade8c0d4-784e-4215-a178-f4a037c5eee9\">\n",
              "    <div class=\"colab-df-container\">\n",
              "      <div>\n",
              "<style scoped>\n",
              "    .dataframe tbody tr th:only-of-type {\n",
              "        vertical-align: middle;\n",
              "    }\n",
              "\n",
              "    .dataframe tbody tr th {\n",
              "        vertical-align: top;\n",
              "    }\n",
              "\n",
              "    .dataframe thead th {\n",
              "        text-align: right;\n",
              "    }\n",
              "</style>\n",
              "<table border=\"1\" class=\"dataframe\">\n",
              "  <thead>\n",
              "    <tr style=\"text-align: right;\">\n",
              "      <th></th>\n",
              "      <th>Keyword</th>\n",
              "      <th>Strength</th>\n",
              "    </tr>\n",
              "  </thead>\n",
              "  <tbody>\n",
              "    <tr>\n",
              "      <th>9</th>\n",
              "      <td>organizational behavior</td>\n",
              "      <td>265.0</td>\n",
              "    </tr>\n",
              "    <tr>\n",
              "      <th>8</th>\n",
              "      <td>organizational effectiveness</td>\n",
              "      <td>144.0</td>\n",
              "    </tr>\n",
              "    <tr>\n",
              "      <th>17</th>\n",
              "      <td>management science</td>\n",
              "      <td>136.0</td>\n",
              "    </tr>\n",
              "    <tr>\n",
              "      <th>33</th>\n",
              "      <td>personnel management</td>\n",
              "      <td>126.0</td>\n",
              "    </tr>\n",
              "    <tr>\n",
              "      <th>43</th>\n",
              "      <td>decision making</td>\n",
              "      <td>112.0</td>\n",
              "    </tr>\n",
              "    <tr>\n",
              "      <th>66</th>\n",
              "      <td>organizational structure</td>\n",
              "      <td>107.0</td>\n",
              "    </tr>\n",
              "    <tr>\n",
              "      <th>1</th>\n",
              "      <td>organizational sociology</td>\n",
              "      <td>96.0</td>\n",
              "    </tr>\n",
              "    <tr>\n",
              "      <th>10</th>\n",
              "      <td>corporate governance</td>\n",
              "      <td>85.0</td>\n",
              "    </tr>\n",
              "    <tr>\n",
              "      <th>69</th>\n",
              "      <td>industrial management</td>\n",
              "      <td>84.0</td>\n",
              "    </tr>\n",
              "    <tr>\n",
              "      <th>16</th>\n",
              "      <td>strategic planning</td>\n",
              "      <td>80.0</td>\n",
              "    </tr>\n",
              "  </tbody>\n",
              "</table>\n",
              "</div>\n",
              "      <button class=\"colab-df-convert\" onclick=\"convertToInteractive('df-ade8c0d4-784e-4215-a178-f4a037c5eee9')\"\n",
              "              title=\"Convert this dataframe to an interactive table.\"\n",
              "              style=\"display:none;\">\n",
              "        \n",
              "  <svg xmlns=\"http://www.w3.org/2000/svg\" height=\"24px\"viewBox=\"0 0 24 24\"\n",
              "       width=\"24px\">\n",
              "    <path d=\"M0 0h24v24H0V0z\" fill=\"none\"/>\n",
              "    <path d=\"M18.56 5.44l.94 2.06.94-2.06 2.06-.94-2.06-.94-.94-2.06-.94 2.06-2.06.94zm-11 1L8.5 8.5l.94-2.06 2.06-.94-2.06-.94L8.5 2.5l-.94 2.06-2.06.94zm10 10l.94 2.06.94-2.06 2.06-.94-2.06-.94-.94-2.06-.94 2.06-2.06.94z\"/><path d=\"M17.41 7.96l-1.37-1.37c-.4-.4-.92-.59-1.43-.59-.52 0-1.04.2-1.43.59L10.3 9.45l-7.72 7.72c-.78.78-.78 2.05 0 2.83L4 21.41c.39.39.9.59 1.41.59.51 0 1.02-.2 1.41-.59l7.78-7.78 2.81-2.81c.8-.78.8-2.07 0-2.86zM5.41 20L4 18.59l7.72-7.72 1.47 1.35L5.41 20z\"/>\n",
              "  </svg>\n",
              "      </button>\n",
              "      \n",
              "  <style>\n",
              "    .colab-df-container {\n",
              "      display:flex;\n",
              "      flex-wrap:wrap;\n",
              "      gap: 12px;\n",
              "    }\n",
              "\n",
              "    .colab-df-convert {\n",
              "      background-color: #E8F0FE;\n",
              "      border: none;\n",
              "      border-radius: 50%;\n",
              "      cursor: pointer;\n",
              "      display: none;\n",
              "      fill: #1967D2;\n",
              "      height: 32px;\n",
              "      padding: 0 0 0 0;\n",
              "      width: 32px;\n",
              "    }\n",
              "\n",
              "    .colab-df-convert:hover {\n",
              "      background-color: #E2EBFA;\n",
              "      box-shadow: 0px 1px 2px rgba(60, 64, 67, 0.3), 0px 1px 3px 1px rgba(60, 64, 67, 0.15);\n",
              "      fill: #174EA6;\n",
              "    }\n",
              "\n",
              "    [theme=dark] .colab-df-convert {\n",
              "      background-color: #3B4455;\n",
              "      fill: #D2E3FC;\n",
              "    }\n",
              "\n",
              "    [theme=dark] .colab-df-convert:hover {\n",
              "      background-color: #434B5C;\n",
              "      box-shadow: 0px 1px 3px 1px rgba(0, 0, 0, 0.15);\n",
              "      filter: drop-shadow(0px 1px 2px rgba(0, 0, 0, 0.3));\n",
              "      fill: #FFFFFF;\n",
              "    }\n",
              "  </style>\n",
              "\n",
              "      <script>\n",
              "        const buttonEl =\n",
              "          document.querySelector('#df-ade8c0d4-784e-4215-a178-f4a037c5eee9 button.colab-df-convert');\n",
              "        buttonEl.style.display =\n",
              "          google.colab.kernel.accessAllowed ? 'block' : 'none';\n",
              "\n",
              "        async function convertToInteractive(key) {\n",
              "          const element = document.querySelector('#df-ade8c0d4-784e-4215-a178-f4a037c5eee9');\n",
              "          const dataTable =\n",
              "            await google.colab.kernel.invokeFunction('convertToInteractive',\n",
              "                                                     [key], {});\n",
              "          if (!dataTable) return;\n",
              "\n",
              "          const docLinkHtml = 'Like what you see? Visit the ' +\n",
              "            '<a target=\"_blank\" href=https://colab.research.google.com/notebooks/data_table.ipynb>data table notebook</a>'\n",
              "            + ' to learn more about interactive tables.';\n",
              "          element.innerHTML = '';\n",
              "          dataTable['output_type'] = 'display_data';\n",
              "          await google.colab.output.renderOutput(dataTable, element);\n",
              "          const docLink = document.createElement('div');\n",
              "          docLink.innerHTML = docLinkHtml;\n",
              "          element.appendChild(docLink);\n",
              "        }\n",
              "      </script>\n",
              "    </div>\n",
              "  </div>\n",
              "  "
            ]
          },
          "metadata": {},
          "execution_count": 92
        }
      ]
    },
    {
      "cell_type": "markdown",
      "source": [
        "# Top 10 node pairs by weight"
      ],
      "metadata": {
        "id": "2eiTKPe_MiYm"
      }
    },
    {
      "cell_type": "code",
      "source": [
        "edges=list(g.edges)"
      ],
      "metadata": {
        "id": "Wn-XjhoBMkKq"
      },
      "execution_count": 93,
      "outputs": []
    },
    {
      "cell_type": "code",
      "source": [
        "weights = nx.get_edge_attributes(g, 'weight')\n",
        "#weights"
      ],
      "metadata": {
        "id": "pRM2kFvYKymx"
      },
      "execution_count": 94,
      "outputs": []
    },
    {
      "cell_type": "code",
      "source": [
        "df_weights=pd.DataFrame({'Edges':weights.keys(),'Weights':weights.values()})"
      ],
      "metadata": {
        "id": "Gmg0-oa6LwBp"
      },
      "execution_count": 95,
      "outputs": []
    },
    {
      "cell_type": "code",
      "source": [
        "df_weights.head()"
      ],
      "metadata": {
        "colab": {
          "base_uri": "https://localhost:8080/",
          "height": 206
        },
        "id": "BwuenGeVL7bn",
        "outputId": "51c41b03-1885-44d0-f6ba-de40fee08d3b"
      },
      "execution_count": 96,
      "outputs": [
        {
          "output_type": "execute_result",
          "data": {
            "text/plain": [
              "    Edges  Weights\n",
              "0  (0, 1)  1.0    \n",
              "1  (0, 2)  1.0    \n",
              "2  (0, 3)  1.0    \n",
              "3  (0, 4)  1.0    \n",
              "4  (0, 5)  1.0    "
            ],
            "text/html": [
              "\n",
              "  <div id=\"df-5dc0cb6e-edae-42a2-be67-ef05497fdb48\">\n",
              "    <div class=\"colab-df-container\">\n",
              "      <div>\n",
              "<style scoped>\n",
              "    .dataframe tbody tr th:only-of-type {\n",
              "        vertical-align: middle;\n",
              "    }\n",
              "\n",
              "    .dataframe tbody tr th {\n",
              "        vertical-align: top;\n",
              "    }\n",
              "\n",
              "    .dataframe thead th {\n",
              "        text-align: right;\n",
              "    }\n",
              "</style>\n",
              "<table border=\"1\" class=\"dataframe\">\n",
              "  <thead>\n",
              "    <tr style=\"text-align: right;\">\n",
              "      <th></th>\n",
              "      <th>Edges</th>\n",
              "      <th>Weights</th>\n",
              "    </tr>\n",
              "  </thead>\n",
              "  <tbody>\n",
              "    <tr>\n",
              "      <th>0</th>\n",
              "      <td>(0, 1)</td>\n",
              "      <td>1.0</td>\n",
              "    </tr>\n",
              "    <tr>\n",
              "      <th>1</th>\n",
              "      <td>(0, 2)</td>\n",
              "      <td>1.0</td>\n",
              "    </tr>\n",
              "    <tr>\n",
              "      <th>2</th>\n",
              "      <td>(0, 3)</td>\n",
              "      <td>1.0</td>\n",
              "    </tr>\n",
              "    <tr>\n",
              "      <th>3</th>\n",
              "      <td>(0, 4)</td>\n",
              "      <td>1.0</td>\n",
              "    </tr>\n",
              "    <tr>\n",
              "      <th>4</th>\n",
              "      <td>(0, 5)</td>\n",
              "      <td>1.0</td>\n",
              "    </tr>\n",
              "  </tbody>\n",
              "</table>\n",
              "</div>\n",
              "      <button class=\"colab-df-convert\" onclick=\"convertToInteractive('df-5dc0cb6e-edae-42a2-be67-ef05497fdb48')\"\n",
              "              title=\"Convert this dataframe to an interactive table.\"\n",
              "              style=\"display:none;\">\n",
              "        \n",
              "  <svg xmlns=\"http://www.w3.org/2000/svg\" height=\"24px\"viewBox=\"0 0 24 24\"\n",
              "       width=\"24px\">\n",
              "    <path d=\"M0 0h24v24H0V0z\" fill=\"none\"/>\n",
              "    <path d=\"M18.56 5.44l.94 2.06.94-2.06 2.06-.94-2.06-.94-.94-2.06-.94 2.06-2.06.94zm-11 1L8.5 8.5l.94-2.06 2.06-.94-2.06-.94L8.5 2.5l-.94 2.06-2.06.94zm10 10l.94 2.06.94-2.06 2.06-.94-2.06-.94-.94-2.06-.94 2.06-2.06.94z\"/><path d=\"M17.41 7.96l-1.37-1.37c-.4-.4-.92-.59-1.43-.59-.52 0-1.04.2-1.43.59L10.3 9.45l-7.72 7.72c-.78.78-.78 2.05 0 2.83L4 21.41c.39.39.9.59 1.41.59.51 0 1.02-.2 1.41-.59l7.78-7.78 2.81-2.81c.8-.78.8-2.07 0-2.86zM5.41 20L4 18.59l7.72-7.72 1.47 1.35L5.41 20z\"/>\n",
              "  </svg>\n",
              "      </button>\n",
              "      \n",
              "  <style>\n",
              "    .colab-df-container {\n",
              "      display:flex;\n",
              "      flex-wrap:wrap;\n",
              "      gap: 12px;\n",
              "    }\n",
              "\n",
              "    .colab-df-convert {\n",
              "      background-color: #E8F0FE;\n",
              "      border: none;\n",
              "      border-radius: 50%;\n",
              "      cursor: pointer;\n",
              "      display: none;\n",
              "      fill: #1967D2;\n",
              "      height: 32px;\n",
              "      padding: 0 0 0 0;\n",
              "      width: 32px;\n",
              "    }\n",
              "\n",
              "    .colab-df-convert:hover {\n",
              "      background-color: #E2EBFA;\n",
              "      box-shadow: 0px 1px 2px rgba(60, 64, 67, 0.3), 0px 1px 3px 1px rgba(60, 64, 67, 0.15);\n",
              "      fill: #174EA6;\n",
              "    }\n",
              "\n",
              "    [theme=dark] .colab-df-convert {\n",
              "      background-color: #3B4455;\n",
              "      fill: #D2E3FC;\n",
              "    }\n",
              "\n",
              "    [theme=dark] .colab-df-convert:hover {\n",
              "      background-color: #434B5C;\n",
              "      box-shadow: 0px 1px 3px 1px rgba(0, 0, 0, 0.15);\n",
              "      filter: drop-shadow(0px 1px 2px rgba(0, 0, 0, 0.3));\n",
              "      fill: #FFFFFF;\n",
              "    }\n",
              "  </style>\n",
              "\n",
              "      <script>\n",
              "        const buttonEl =\n",
              "          document.querySelector('#df-5dc0cb6e-edae-42a2-be67-ef05497fdb48 button.colab-df-convert');\n",
              "        buttonEl.style.display =\n",
              "          google.colab.kernel.accessAllowed ? 'block' : 'none';\n",
              "\n",
              "        async function convertToInteractive(key) {\n",
              "          const element = document.querySelector('#df-5dc0cb6e-edae-42a2-be67-ef05497fdb48');\n",
              "          const dataTable =\n",
              "            await google.colab.kernel.invokeFunction('convertToInteractive',\n",
              "                                                     [key], {});\n",
              "          if (!dataTable) return;\n",
              "\n",
              "          const docLinkHtml = 'Like what you see? Visit the ' +\n",
              "            '<a target=\"_blank\" href=https://colab.research.google.com/notebooks/data_table.ipynb>data table notebook</a>'\n",
              "            + ' to learn more about interactive tables.';\n",
              "          element.innerHTML = '';\n",
              "          dataTable['output_type'] = 'display_data';\n",
              "          await google.colab.output.renderOutput(dataTable, element);\n",
              "          const docLink = document.createElement('div');\n",
              "          docLink.innerHTML = docLinkHtml;\n",
              "          element.appendChild(docLink);\n",
              "        }\n",
              "      </script>\n",
              "    </div>\n",
              "  </div>\n",
              "  "
            ]
          },
          "metadata": {},
          "execution_count": 96
        }
      ]
    },
    {
      "cell_type": "code",
      "source": [
        "#creating keyword pairs and replacing the edges with keyword names in the dataframe\n",
        "keyword_pairs=[(keywords_uni[i], keywords_uni[j]) for i, j in g.edges()]"
      ],
      "metadata": {
        "id": "bU5DbnWUPNad"
      },
      "execution_count": 97,
      "outputs": []
    },
    {
      "cell_type": "code",
      "source": [
        "len(keyword_pairs)"
      ],
      "metadata": {
        "colab": {
          "base_uri": "https://localhost:8080/"
        },
        "id": "w23bCsPPPcco",
        "outputId": "f6b505f5-59ae-40ec-edb3-47205ff6b053"
      },
      "execution_count": 98,
      "outputs": [
        {
          "output_type": "execute_result",
          "data": {
            "text/plain": [
              "2141"
            ]
          },
          "metadata": {},
          "execution_count": 98
        }
      ]
    },
    {
      "cell_type": "code",
      "source": [
        "#adding a column containing the keyword pair for its corresponding edges\n",
        "df_weights['Keyword pair']=keyword_pairs"
      ],
      "metadata": {
        "id": "uXe5nyL4P8Lg"
      },
      "execution_count": 99,
      "outputs": []
    },
    {
      "cell_type": "code",
      "source": [
        "pd.set_option('display.max_colwidth', -1)"
      ],
      "metadata": {
        "colab": {
          "base_uri": "https://localhost:8080/"
        },
        "id": "90QX2VsAWidh",
        "outputId": "e0342353-e19d-4741-c83d-15c09df9aafb"
      },
      "execution_count": 100,
      "outputs": [
        {
          "output_type": "stream",
          "name": "stderr",
          "text": [
            "<ipython-input-100-0891b765a168>:1: FutureWarning: Passing a negative integer is deprecated in version 1.0 and will not be supported in future version. Instead, use None to not limit the column width.\n",
            "  pd.set_option('display.max_colwidth', -1)\n"
          ]
        }
      ]
    },
    {
      "cell_type": "code",
      "source": [
        "# top 10 keyword pairs by weight\n",
        "df_weights[['Weights','Keyword pair']].sort_values(by='Weights', ascending=False).head(10)"
      ],
      "metadata": {
        "colab": {
          "base_uri": "https://localhost:8080/",
          "height": 363
        },
        "id": "fI3BmuVrQBPD",
        "outputId": "b28abbe1-e04d-47fd-8b72-ba7a133f9090"
      },
      "execution_count": 101,
      "outputs": [
        {
          "output_type": "execute_result",
          "data": {
            "text/plain": [
              "     Weights                                              Keyword pair\n",
              "172  11.0     (organizational effectiveness, organizational behavior) \n",
              "309  9.0      (organizational behavior, organizational structure)     \n",
              "281  8.0      (organizational behavior, personnel management)         \n",
              "271  7.0      (organizational behavior, management science)           \n",
              "290  6.0      (organizational behavior, decision making)              \n",
              "268  6.0      (organizational behavior, corporate governance)         \n",
              "17   6.0      (organizational sociology, organizational behavior)     \n",
              "206  6.0      (organizational effectiveness, organizational structure)\n",
              "45   5.0      (organizational sociology, teams in the workplace)      \n",
              "308  5.0      (organizational behavior, organizational change)        "
            ],
            "text/html": [
              "\n",
              "  <div id=\"df-680bf0d4-97c2-4fb0-b42e-9d2e91854c20\">\n",
              "    <div class=\"colab-df-container\">\n",
              "      <div>\n",
              "<style scoped>\n",
              "    .dataframe tbody tr th:only-of-type {\n",
              "        vertical-align: middle;\n",
              "    }\n",
              "\n",
              "    .dataframe tbody tr th {\n",
              "        vertical-align: top;\n",
              "    }\n",
              "\n",
              "    .dataframe thead th {\n",
              "        text-align: right;\n",
              "    }\n",
              "</style>\n",
              "<table border=\"1\" class=\"dataframe\">\n",
              "  <thead>\n",
              "    <tr style=\"text-align: right;\">\n",
              "      <th></th>\n",
              "      <th>Weights</th>\n",
              "      <th>Keyword pair</th>\n",
              "    </tr>\n",
              "  </thead>\n",
              "  <tbody>\n",
              "    <tr>\n",
              "      <th>172</th>\n",
              "      <td>11.0</td>\n",
              "      <td>(organizational effectiveness, organizational behavior)</td>\n",
              "    </tr>\n",
              "    <tr>\n",
              "      <th>309</th>\n",
              "      <td>9.0</td>\n",
              "      <td>(organizational behavior, organizational structure)</td>\n",
              "    </tr>\n",
              "    <tr>\n",
              "      <th>281</th>\n",
              "      <td>8.0</td>\n",
              "      <td>(organizational behavior, personnel management)</td>\n",
              "    </tr>\n",
              "    <tr>\n",
              "      <th>271</th>\n",
              "      <td>7.0</td>\n",
              "      <td>(organizational behavior, management science)</td>\n",
              "    </tr>\n",
              "    <tr>\n",
              "      <th>290</th>\n",
              "      <td>6.0</td>\n",
              "      <td>(organizational behavior, decision making)</td>\n",
              "    </tr>\n",
              "    <tr>\n",
              "      <th>268</th>\n",
              "      <td>6.0</td>\n",
              "      <td>(organizational behavior, corporate governance)</td>\n",
              "    </tr>\n",
              "    <tr>\n",
              "      <th>17</th>\n",
              "      <td>6.0</td>\n",
              "      <td>(organizational sociology, organizational behavior)</td>\n",
              "    </tr>\n",
              "    <tr>\n",
              "      <th>206</th>\n",
              "      <td>6.0</td>\n",
              "      <td>(organizational effectiveness, organizational structure)</td>\n",
              "    </tr>\n",
              "    <tr>\n",
              "      <th>45</th>\n",
              "      <td>5.0</td>\n",
              "      <td>(organizational sociology, teams in the workplace)</td>\n",
              "    </tr>\n",
              "    <tr>\n",
              "      <th>308</th>\n",
              "      <td>5.0</td>\n",
              "      <td>(organizational behavior, organizational change)</td>\n",
              "    </tr>\n",
              "  </tbody>\n",
              "</table>\n",
              "</div>\n",
              "      <button class=\"colab-df-convert\" onclick=\"convertToInteractive('df-680bf0d4-97c2-4fb0-b42e-9d2e91854c20')\"\n",
              "              title=\"Convert this dataframe to an interactive table.\"\n",
              "              style=\"display:none;\">\n",
              "        \n",
              "  <svg xmlns=\"http://www.w3.org/2000/svg\" height=\"24px\"viewBox=\"0 0 24 24\"\n",
              "       width=\"24px\">\n",
              "    <path d=\"M0 0h24v24H0V0z\" fill=\"none\"/>\n",
              "    <path d=\"M18.56 5.44l.94 2.06.94-2.06 2.06-.94-2.06-.94-.94-2.06-.94 2.06-2.06.94zm-11 1L8.5 8.5l.94-2.06 2.06-.94-2.06-.94L8.5 2.5l-.94 2.06-2.06.94zm10 10l.94 2.06.94-2.06 2.06-.94-2.06-.94-.94-2.06-.94 2.06-2.06.94z\"/><path d=\"M17.41 7.96l-1.37-1.37c-.4-.4-.92-.59-1.43-.59-.52 0-1.04.2-1.43.59L10.3 9.45l-7.72 7.72c-.78.78-.78 2.05 0 2.83L4 21.41c.39.39.9.59 1.41.59.51 0 1.02-.2 1.41-.59l7.78-7.78 2.81-2.81c.8-.78.8-2.07 0-2.86zM5.41 20L4 18.59l7.72-7.72 1.47 1.35L5.41 20z\"/>\n",
              "  </svg>\n",
              "      </button>\n",
              "      \n",
              "  <style>\n",
              "    .colab-df-container {\n",
              "      display:flex;\n",
              "      flex-wrap:wrap;\n",
              "      gap: 12px;\n",
              "    }\n",
              "\n",
              "    .colab-df-convert {\n",
              "      background-color: #E8F0FE;\n",
              "      border: none;\n",
              "      border-radius: 50%;\n",
              "      cursor: pointer;\n",
              "      display: none;\n",
              "      fill: #1967D2;\n",
              "      height: 32px;\n",
              "      padding: 0 0 0 0;\n",
              "      width: 32px;\n",
              "    }\n",
              "\n",
              "    .colab-df-convert:hover {\n",
              "      background-color: #E2EBFA;\n",
              "      box-shadow: 0px 1px 2px rgba(60, 64, 67, 0.3), 0px 1px 3px 1px rgba(60, 64, 67, 0.15);\n",
              "      fill: #174EA6;\n",
              "    }\n",
              "\n",
              "    [theme=dark] .colab-df-convert {\n",
              "      background-color: #3B4455;\n",
              "      fill: #D2E3FC;\n",
              "    }\n",
              "\n",
              "    [theme=dark] .colab-df-convert:hover {\n",
              "      background-color: #434B5C;\n",
              "      box-shadow: 0px 1px 3px 1px rgba(0, 0, 0, 0.15);\n",
              "      filter: drop-shadow(0px 1px 2px rgba(0, 0, 0, 0.3));\n",
              "      fill: #FFFFFF;\n",
              "    }\n",
              "  </style>\n",
              "\n",
              "      <script>\n",
              "        const buttonEl =\n",
              "          document.querySelector('#df-680bf0d4-97c2-4fb0-b42e-9d2e91854c20 button.colab-df-convert');\n",
              "        buttonEl.style.display =\n",
              "          google.colab.kernel.accessAllowed ? 'block' : 'none';\n",
              "\n",
              "        async function convertToInteractive(key) {\n",
              "          const element = document.querySelector('#df-680bf0d4-97c2-4fb0-b42e-9d2e91854c20');\n",
              "          const dataTable =\n",
              "            await google.colab.kernel.invokeFunction('convertToInteractive',\n",
              "                                                     [key], {});\n",
              "          if (!dataTable) return;\n",
              "\n",
              "          const docLinkHtml = 'Like what you see? Visit the ' +\n",
              "            '<a target=\"_blank\" href=https://colab.research.google.com/notebooks/data_table.ipynb>data table notebook</a>'\n",
              "            + ' to learn more about interactive tables.';\n",
              "          element.innerHTML = '';\n",
              "          dataTable['output_type'] = 'display_data';\n",
              "          await google.colab.output.renderOutput(dataTable, element);\n",
              "          const docLink = document.createElement('div');\n",
              "          docLink.innerHTML = docLinkHtml;\n",
              "          element.appendChild(docLink);\n",
              "        }\n",
              "      </script>\n",
              "    </div>\n",
              "  </div>\n",
              "  "
            ]
          },
          "metadata": {},
          "execution_count": 101
        }
      ]
    },
    {
      "cell_type": "markdown",
      "source": [
        "# Average Strength vs Degree"
      ],
      "metadata": {
        "id": "HHMKjDakMotK"
      }
    },
    {
      "cell_type": "code",
      "source": [
        "# creating a column in strength and degree dataframe df to store average strength of each node\n",
        "df_avg_strength=df.groupby('Degree')['Strength'].mean()"
      ],
      "metadata": {
        "id": "oIwpmYDFMsvK"
      },
      "execution_count": 102,
      "outputs": []
    },
    {
      "cell_type": "code",
      "source": [
        "df_avg_strength.head()"
      ],
      "metadata": {
        "id": "fTGLdJypRfGM",
        "colab": {
          "base_uri": "https://localhost:8080/"
        },
        "outputId": "568094aa-cd2b-41e8-baff-30d8f8d36bea"
      },
      "execution_count": 103,
      "outputs": [
        {
          "output_type": "execute_result",
          "data": {
            "text/plain": [
              "Degree\n",
              "4     4.0 \n",
              "7     7.0 \n",
              "8     8.0 \n",
              "9     9.0 \n",
              "10    10.0\n",
              "Name: Strength, dtype: float64"
            ]
          },
          "metadata": {},
          "execution_count": 103
        }
      ]
    },
    {
      "cell_type": "code",
      "source": [
        "type(df_avg_strength)"
      ],
      "metadata": {
        "colab": {
          "base_uri": "https://localhost:8080/"
        },
        "id": "XJyglqpYTVUY",
        "outputId": "cc025972-e6c3-427f-def2-b2bd7030aec6"
      },
      "execution_count": 104,
      "outputs": [
        {
          "output_type": "execute_result",
          "data": {
            "text/plain": [
              "pandas.core.series.Series"
            ]
          },
          "metadata": {},
          "execution_count": 104
        }
      ]
    },
    {
      "cell_type": "code",
      "source": [
        "sns.scatterplot(x=df_avg_strength.index, y=df_avg_strength.values)\n",
        "plt.xlabel('Degree')\n",
        "plt.ylabel('Average Strength')\n",
        "plt.title('Average strength vs Degree')\n",
        "plt.show()"
      ],
      "metadata": {
        "id": "tqLiwsZcRfLO",
        "colab": {
          "base_uri": "https://localhost:8080/",
          "height": 472
        },
        "outputId": "5c7d92ec-1272-432d-bcac-a2a2d920285b"
      },
      "execution_count": 105,
      "outputs": [
        {
          "output_type": "display_data",
          "data": {
            "text/plain": [
              "<Figure size 640x480 with 1 Axes>"
            ],
            "image/png": "[encoded data removed]"
          },
          "metadata": {}
        }
      ]
    }
  ]
}
